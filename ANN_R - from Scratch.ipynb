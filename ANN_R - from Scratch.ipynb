{
 "cells": [
  {
   "cell_type": "markdown",
   "metadata": {},
   "source": [
    "# Building a Neural Network with R (from Scratch)\n",
    "Source - Article: http://selbydavid.com/2018/01/09/neural-network/  \n",
    "Source - GitHub: https://github.com/Selbosh/selbosh.github.io/blob/source/content/post/2018-01-09-neural-network.Rmd"
   ]
  },
  {
   "cell_type": "code",
   "execution_count": 1,
   "metadata": {},
   "outputs": [],
   "source": [
    "two_spirals <- function(N = 200,\n",
    "                        radians = 3*pi,\n",
    "                        theta0 = pi/2,\n",
    "                        labels = 0:1) {\n",
    "    N1 <- floor(N / 2)\n",
    "    N2 <- N - N1\n",
    "    \n",
    "    theta <- theta0 + runif(N1) * radians\n",
    "    spiral1 <- cbind(-theta * cos(theta) + runif(N1),\n",
    "                     theta * sin(theta) + runif(N1))\n",
    "    spiral2 <- cbind(theta * cos(theta) + runif(N2),\n",
    "                     -theta * sin(theta) + runif(N2))\n",
    "    \n",
    "    points <- rbind(spiral1, spiral2)\n",
    "    classes <- c(rep(0, N1), rep(1, N2))\n",
    "    \n",
    "    data.frame(x1 = points[, 1],\n",
    "               x2 = points[, 2],\n",
    "               class = factor(classes, labels = labels))\n",
    "}\n",
    "\n",
    "set.seed(42)\n",
    "hotdogs <- two_spirals(labels = c('not hot dog', 'hot dog'))"
   ]
  },
  {
   "cell_type": "code",
   "execution_count": 2,
   "metadata": {},
   "outputs": [
    {
     "data": {
      "text/html": [
       "<table>\n",
       "<thead><tr><th scope=col>x1</th><th scope=col>x2</th><th scope=col>class</th></tr></thead>\n",
       "<tbody>\n",
       "\t<tr><td> 7.9588024 </td><td>-6.1946790 </td><td>not hot dog</td></tr>\n",
       "\t<tr><td> 6.0310557 </td><td>-8.1090756 </td><td>not hot dog</td></tr>\n",
       "\t<tr><td> 2.0527836 </td><td>-3.0004321 </td><td>not hot dog</td></tr>\n",
       "\t<tr><td> 9.7830504 </td><td> 0.6983522 </td><td>not hot dog</td></tr>\n",
       "\t<tr><td>-0.8306828 </td><td> 7.5677887 </td><td>not hot dog</td></tr>\n",
       "\t<tr><td>-5.3961604 </td><td> 1.5992630 </td><td>not hot dog</td></tr>\n",
       "</tbody>\n",
       "</table>\n"
      ],
      "text/latex": [
       "\\begin{tabular}{r|lll}\n",
       " x1 & x2 & class\\\\\n",
       "\\hline\n",
       "\t  7.9588024  & -6.1946790  & not hot dog\\\\\n",
       "\t  6.0310557  & -8.1090756  & not hot dog\\\\\n",
       "\t  2.0527836  & -3.0004321  & not hot dog\\\\\n",
       "\t  9.7830504  &  0.6983522  & not hot dog\\\\\n",
       "\t -0.8306828  &  7.5677887  & not hot dog\\\\\n",
       "\t -5.3961604  &  1.5992630  & not hot dog\\\\\n",
       "\\end{tabular}\n"
      ],
      "text/markdown": [
       "\n",
       "x1 | x2 | class | \n",
       "|---|---|---|---|---|---|\n",
       "|  7.9588024  | -6.1946790  | not hot dog | \n",
       "|  6.0310557  | -8.1090756  | not hot dog | \n",
       "|  2.0527836  | -3.0004321  | not hot dog | \n",
       "|  9.7830504  |  0.6983522  | not hot dog | \n",
       "| -0.8306828  |  7.5677887  | not hot dog | \n",
       "| -5.3961604  |  1.5992630  | not hot dog | \n",
       "\n",
       "\n"
      ],
      "text/plain": [
       "  x1         x2         class      \n",
       "1  7.9588024 -6.1946790 not hot dog\n",
       "2  6.0310557 -8.1090756 not hot dog\n",
       "3  2.0527836 -3.0004321 not hot dog\n",
       "4  9.7830504  0.6983522 not hot dog\n",
       "5 -0.8306828  7.5677887 not hot dog\n",
       "6 -5.3961604  1.5992630 not hot dog"
      ]
     },
     "metadata": {},
     "output_type": "display_data"
    },
    {
     "data": {
      "text/html": [
       "<ol class=list-inline>\n",
       "\t<li>not hot dog</li>\n",
       "\t<li>hot dog</li>\n",
       "</ol>\n"
      ],
      "text/latex": [
       "\\begin{enumerate*}\n",
       "\\item not hot dog\n",
       "\\item hot dog\n",
       "\\end{enumerate*}\n"
      ],
      "text/markdown": [
       "1. not hot dog\n",
       "2. hot dog\n",
       "\n",
       "\n"
      ],
      "text/plain": [
       "[1] not hot dog hot dog    \n",
       "Levels: not hot dog hot dog"
      ]
     },
     "metadata": {},
     "output_type": "display_data"
    }
   ],
   "source": [
    "head(hotdogs)\n",
    "unique(hotdogs$class)"
   ]
  },
  {
   "cell_type": "code",
   "execution_count": 8,
   "metadata": {},
   "outputs": [
    {
     "data": {},
     "metadata": {},
     "output_type": "display_data"
    },
    {
     "data": {
      "image/png": "[encoded data removed]",
      "text/plain": [
       "plot without title"
      ]
     },
     "metadata": {},
     "output_type": "display_data",
     "source": "R display func"
    }
   ],
   "source": [
    "library(ggplot2)\n",
    "\n",
    "theme_set(theme_classic())\n",
    "ggplot(hotdogs) +\n",
    "    aes(x1, x2, colour = class) +\n",
    "    geom_point() +\n",
    "    labs(x = expression(x[1]),\n",
    "         y = expression(x[2]))"
   ]
  },
  {
   "cell_type": "code",
   "execution_count": 16,
   "metadata": {},
   "outputs": [
    {
     "data": {
      "text/html": [
       "67"
      ],
      "text/latex": [
       "67"
      ],
      "text/markdown": [
       "67"
      ],
      "text/plain": [
       "[1] 67"
      ]
     },
     "metadata": {},
     "output_type": "display_data"
    }
   ],
   "source": [
    "logreg <- glm(class ~ x1 + x2, family = binomial, data = hotdogs)\n",
    "correct <- sum((fitted(logreg) > .5) + 1 == as.integer(hotdogs$class))\n",
    "\n",
    "correct / nrow(hotdogs) * 100 # % correct with a logistic regression"
   ]
  },
  {
   "cell_type": "code",
   "execution_count": 17,
   "metadata": {},
   "outputs": [
    {
     "data": {},
     "metadata": {},
     "output_type": "display_data"
    },
    {
     "data": {
      "image/png": "[encoded data removed]",
      "text/plain": [
       "plot without title"
      ]
     },
     "metadata": {},
     "output_type": "display_data",
     "source": "R display func"
    }
   ],
   "source": [
    "beta <- coef(logreg)\n",
    "grid <- expand.grid(x1 = seq(min(hotdogs$x1) - 1,\n",
    "                             max(hotdogs$x1) + 1,\n",
    "                             by = .25),\n",
    "                    x2 = seq(min(hotdogs$x2) - 1,\n",
    "                             max(hotdogs$x2) + 1,\n",
    "                             by = .25))\n",
    "grid$class <- factor((predict(logreg, newdata = grid) > 0) * 1,\n",
    "                     labels = c('not hot dog', 'hot dog'))\n",
    "\n",
    "ggplot(hotdogs) + aes(x1, x2, colour = class) +\n",
    "  geom_point(data = grid, size = .5) +\n",
    "  geom_point() +\n",
    "  labs(x = expression(x[1]), y = expression(x[2])) +\n",
    "  geom_abline(intercept = -beta[1]/beta[3],\n",
    "              slope = -beta[2]/beta[3])"
   ]
  },
  {
   "cell_type": "code",
   "execution_count": 19,
   "metadata": {},
   "outputs": [],
   "source": [
    "sigmoid <- function(x) 1 / (1 + exp(-x))\n",
    "\n",
    "feedforward <- function(x, w1, w2) {\n",
    "  z1 <- cbind(1, x) %*% w1\n",
    "  h <- sigmoid(z1)\n",
    "  z2 <- cbind(1, h) %*% w2\n",
    "  list(output = sigmoid(z2), h = h)\n",
    "}\n",
    "    \n",
    "backpropagate <- function(x, y, y_hat, w1, w2, h, learn_rate) {\n",
    "  dw2 <- t(cbind(1, h)) %*% (y_hat - y)\n",
    "  dh  <- (y_hat - y) %*% t(w2[-1, , drop = FALSE])\n",
    "  dw1 <- t(cbind(1, x)) %*% (h * (1 - h) * dh)\n",
    "  \n",
    "  w1 <- w1 - learn_rate * dw1\n",
    "  w2 <- w2 - learn_rate * dw2\n",
    "  \n",
    "  list(w1 = w1, w2 = w2)\n",
    "}\n",
    "    \n",
    "train <- function(x, y, hidden = 5, learn_rate = 1e-2, iterations = 1e4) {\n",
    "  d <- ncol(x) + 1\n",
    "  w1 <- matrix(rnorm(d * hidden), d, hidden)\n",
    "  w2 <- as.matrix(rnorm(hidden + 1))\n",
    "  for (i in 1:iterations) {\n",
    "    ff <- feedforward(x, w1, w2)\n",
    "    bp <- backpropagate(x, y,\n",
    "                        y_hat = ff$output,\n",
    "                        w1, w2,\n",
    "                        h = ff$h,\n",
    "                        learn_rate = learn_rate)\n",
    "    w1 <- bp$w1; w2 <- bp$w2\n",
    "  }\n",
    "  list(output = ff$output, w1 = w1, w2 = w2)\n",
    "}\n",
    "    "
   ]
  },
  {
   "cell_type": "code",
   "execution_count": 20,
   "metadata": {},
   "outputs": [],
   "source": [
    "x <- data.matrix(hotdogs[, c('x1', 'x2')])\n",
    "y <- hotdogs$class == 'hot dog'\n",
    "nnet5 <- train(x, y, hidden = 5, iterations = 1e5)"
   ]
  },
  {
   "cell_type": "code",
   "execution_count": 21,
   "metadata": {},
   "outputs": [
    {
     "data": {
      "text/html": [
       "0.735"
      ],
      "text/latex": [
       "0.735"
      ],
      "text/markdown": [
       "0.735"
      ],
      "text/plain": [
       "[1] 0.735"
      ]
     },
     "metadata": {},
     "output_type": "display_data"
    }
   ],
   "source": [
    "mean((nnet5$output > .5) == y)"
   ]
  },
  {
   "cell_type": "code",
   "execution_count": 22,
   "metadata": {},
   "outputs": [],
   "source": [
    "ff_grid <- feedforward(x = data.matrix(grid[, c('x1', 'x2')]),\n",
    "                       w1 = nnet5$w1,\n",
    "                       w2 = nnet5$w2)\n",
    "grid$class <- factor((ff_grid$output > .5) * 1,\n",
    "                     labels = levels(hotdogs$class))"
   ]
  },
  {
   "cell_type": "code",
   "execution_count": 23,
   "metadata": {},
   "outputs": [
    {
     "data": {},
     "metadata": {},
     "output_type": "display_data"
    },
    {
     "data": {
      "image/png": "[encoded data removed]",
      "text/plain": [
       "plot without title"
      ]
     },
     "metadata": {},
     "output_type": "display_data",
     "source": "R display func"
    }
   ],
   "source": [
    "ggplot(hotdogs) + aes(x1, x2, colour = class) +\n",
    "  geom_point(data = grid, size = .5) +\n",
    "  geom_point() +\n",
    "  labs(x = expression(x[1]), y = expression(x[2]))"
   ]
  },
  {
   "cell_type": "code",
   "execution_count": 24,
   "metadata": {},
   "outputs": [],
   "source": [
    "# how about 30 nodes:\n",
    "nnet30 <- train(x, y, hidden = 30, iterations = 1e5)"
   ]
  },
  {
   "cell_type": "code",
   "execution_count": 25,
   "metadata": {},
   "outputs": [
    {
     "data": {},
     "metadata": {},
     "output_type": "display_data"
    },
    {
     "data": {
      "image/png": "[encoded data removed]",
      "text/plain": [
       "plot without title"
      ]
     },
     "metadata": {},
     "output_type": "display_data",
     "source": "R display func"
    }
   ],
   "source": [
    "ff_grid <- feedforward(x = data.matrix(grid[, c('x1', 'x2')]),\n",
    "                       w1 = nnet30$w1,\n",
    "                       w2 = nnet30$w2)\n",
    "grid$class <- factor((ff_grid$output > .5) * 1,\n",
    "                     labels = levels(hotdogs$class))\n",
    "\n",
    "ggplot(hotdogs) + aes(x1, x2, colour = class) +\n",
    "  geom_point(data = grid, size = .5) +\n",
    "  geom_point() +\n",
    "  labs(x = expression(x[1]), y = expression(x[2]))"
   ]
  },
  {
   "cell_type": "code",
   "execution_count": 27,
   "metadata": {},
   "outputs": [],
   "source": [
    "# and one hidden layer?\n",
    "nnet1 <- train(x, y, hidden = 1, iterations = 1e5)"
   ]
  },
  {
   "cell_type": "code",
   "execution_count": 28,
   "metadata": {},
   "outputs": [
    {
     "data": {},
     "metadata": {},
     "output_type": "display_data"
    },
    {
     "data": {
      "image/png": "[encoded data removed]",
      "text/plain": [
       "plot without title"
      ]
     },
     "metadata": {},
     "output_type": "display_data",
     "source": "R display func"
    }
   ],
   "source": [
    "ff_grid <- feedforward(x = data.matrix(grid[, c('x1', 'x2')]),\n",
    "                       w1 = nnet1$w1,\n",
    "                       w2 = nnet1$w2)\n",
    "grid$class <- factor((ff_grid$output > .5) * 1,\n",
    "                     labels = levels(hotdogs$class))\n",
    "\n",
    "ggplot(hotdogs) + aes(x1, x2, colour = class) +\n",
    "  geom_point(data = grid, size = .5) +\n",
    "  geom_point() +\n",
    "  labs(x = expression(x[1]), y = expression(x[2]))"
   ]
  },
  {
   "cell_type": "markdown",
   "metadata": {},
   "source": [
    "# R6 Class Implementation"
   ]
  },
  {
   "cell_type": "code",
   "execution_count": 29,
   "metadata": {},
   "outputs": [],
   "source": [
    "library(R6)\n",
    "NeuralNetwork <- R6Class(\"NeuralNetwork\",\n",
    "  public = list(\n",
    "    X = NULL,  Y = NULL,\n",
    "    W1 = NULL, W2 = NULL,\n",
    "    output = NULL,\n",
    "    initialize = function(formula, hidden, data = list()) {\n",
    "      # Model and training data\n",
    "      mod <- model.frame(formula, data = data)\n",
    "      self$X <- model.matrix(attr(mod, 'terms'), data = mod)\n",
    "      self$Y <- model.response(mod)\n",
    "      \n",
    "      # Dimensions\n",
    "      D <- ncol(self$X) # input dimensions (+ bias)\n",
    "      K <- length(unique(self$Y)) # number of classes\n",
    "      H <- hidden # number of hidden nodes (- bias)\n",
    "      \n",
    "      # Initial weights and bias\n",
    "      self$W1 <- .01 * matrix(rnorm(D * H), D, H)\n",
    "      self$W2 <- .01 * matrix(rnorm((H + 1) * K), H + 1, K)\n",
    "    },\n",
    "    fit = function(data = self$X) {\n",
    "      h <- self$sigmoid(data %*% self$W1)\n",
    "      score <- cbind(1, h) %*% self$W2\n",
    "      return(self$softmax(score))\n",
    "    },\n",
    "    feedforward = function(data = self$X) {\n",
    "      self$output <- self$fit(data)\n",
    "      invisible(self)\n",
    "    },\n",
    "    backpropagate = function(lr = 1e-2) {\n",
    "      h <- self$sigmoid(self$X %*% self$W1)\n",
    "      Yid <- match(self$Y, sort(unique(self$Y)))\n",
    "      \n",
    "      haty_y <- self$output - (col(self$output) == Yid) # E[y] - y\n",
    "      dW2 <- t(cbind(1, h)) %*% haty_y\n",
    "      \n",
    "      dh <- haty_y %*% t(self$W2[-1, , drop = FALSE])\n",
    "      dW1 <- t(self$X) %*% (self$dsigmoid(h) * dh)\n",
    "      \n",
    "      self$W1 <- self$W1 - lr * dW1\n",
    "      self$W2 <- self$W2 - lr * dW2\n",
    "      \n",
    "      invisible(self)\n",
    "    },\n",
    "    predict = function(data = self$X) {\n",
    "      probs <- self$fit(data)\n",
    "      preds <- apply(probs, 1, which.max)\n",
    "      levels(self$Y)[preds]\n",
    "    },\n",
    "    compute_loss = function(probs = self$output) {\n",
    "      Yid <- match(self$Y, sort(unique(self$Y)))\n",
    "      correct_logprobs <- -log(probs[cbind(seq_along(Yid), Yid)])\n",
    "      sum(correct_logprobs)\n",
    "    },\n",
    "    train = function(iterations = 1e4,\n",
    "                     learn_rate = 1e-2,\n",
    "                     tolerance = .01,\n",
    "                     trace = 100) {\n",
    "      for (i in seq_len(iterations)) {\n",
    "        self$feedforward()$backpropagate(learn_rate)\n",
    "        if (trace > 0 && i %% trace == 0)\n",
    "          message('Iteration ', i, '\\tLoss ', self$compute_loss(),\n",
    "                  '\\tAccuracy ', self$accuracy())\n",
    "        if (self$compute_loss() < tolerance) break\n",
    "      }\n",
    "      invisible(self)\n",
    "    },\n",
    "    accuracy = function() {\n",
    "      predictions <- apply(self$output, 1, which.max)\n",
    "      predictions <- levels(self$Y)[predictions]\n",
    "      mean(predictions == self$Y)\n",
    "    },\n",
    "    sigmoid = function(x) 1 / (1 + exp(-x)),\n",
    "    dsigmoid = function(x) x * (1 - x),\n",
    "    softmax = function(x) exp(x) / rowSums(exp(x))\n",
    "  )\n",
    ")"
   ]
  },
  {
   "cell_type": "code",
   "execution_count": 30,
   "metadata": {},
   "outputs": [],
   "source": [
    "irisnet <- NeuralNetwork$new(Species ~ ., data = iris, hidden = 5)"
   ]
  },
  {
   "cell_type": "code",
   "execution_count": 31,
   "metadata": {},
   "outputs": [
    {
     "name": "stderr",
     "output_type": "stream",
     "text": [
      "Iteration 1000\tLoss 151.038813105831\tAccuracy 0.68\n",
      "Iteration 2000\tLoss 82.6551808915209\tAccuracy 0.84\n",
      "Iteration 3000\tLoss 65.6912647656911\tAccuracy 0.966666666666667\n",
      "Iteration 4000\tLoss 52.2470394194697\tAccuracy 0.973333333333333\n",
      "Iteration 5000\tLoss 41.029889648112\tAccuracy 0.973333333333333\n",
      "Iteration 6000\tLoss 32.9038616561112\tAccuracy 0.973333333333333\n",
      "Iteration 7000\tLoss 27.3152426546737\tAccuracy 0.98\n",
      "Iteration 8000\tLoss 23.4423065896135\tAccuracy 0.98\n",
      "Iteration 9000\tLoss 20.6768579148378\tAccuracy 0.98\n"
     ]
    }
   ],
   "source": [
    "irisnet$train(9999, trace = 1e3, learn_rate = .0001)"
   ]
  },
  {
   "cell_type": "code",
   "execution_count": 32,
   "metadata": {},
   "outputs": [
    {
     "data": {
      "text/plain": [
       "<NeuralNetwork>\n",
       "  Public:\n",
       "    accuracy: function () \n",
       "    backpropagate: function (lr = 0.01) \n",
       "    clone: function (deep = FALSE) \n",
       "    compute_loss: function (probs = self$output) \n",
       "    dsigmoid: function (x) \n",
       "    feedforward: function (data = self$X) \n",
       "    fit: function (data = self$X) \n",
       "    initialize: function (formula, hidden, data = list()) \n",
       "    output: 0.970399801326407 0.964485258285899 0.967832502555438 0. ...\n",
       "    predict: function (data = self$X) \n",
       "    sigmoid: function (x) \n",
       "    softmax: function (x) \n",
       "    train: function (iterations = 10000, learn_rate = 0.01, tolerance = 0.01, \n",
       "    W1: -0.234619777684743 -0.371121286592842 -1.21203133026818  ...\n",
       "    W2: -0.343559664423871 -3.5325389352613 2.32228067771692 1.1 ...\n",
       "    X: 1 1 1 1 1 1 1 1 1 1 1 1 1 1 1 1 1 1 1 1 1 1 1 1 1 1 1 1  ...\n",
       "    Y: setosa setosa setosa setosa setosa setosa setosa setosa  ..."
      ]
     },
     "metadata": {},
     "output_type": "display_data"
    }
   ],
   "source": [
    "irisnet"
   ]
  },
  {
   "cell_type": "code",
   "execution_count": 34,
   "metadata": {},
   "outputs": [],
   "source": [
    "# simple prediction line with R6 class:  irisnet$train(1000)$predict(newdata)"
   ]
  }
 ],
 "metadata": {
  "kernelspec": {
   "display_name": "R",
   "language": "R",
   "name": "ir"
  },
  "language_info": {
   "codemirror_mode": "r",
   "file_extension": ".r",
   "mimetype": "text/x-r-source",
   "name": "R",
   "pygments_lexer": "r",
   "version": "3.4.2"
  }
 },
 "nbformat": 4,
 "nbformat_minor": 2
}
