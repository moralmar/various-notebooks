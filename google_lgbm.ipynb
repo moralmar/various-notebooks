{
 "cells": [
  {
   "cell_type": "code",
   "execution_count": 1,
   "metadata": {},
   "outputs": [],
   "source": [
    "import pandas as pd\n",
    "import numpy as np\n",
    "\n",
    "%matplotlib inline\n",
    "\n",
    "import lightgbm as lgb\n",
    "\n",
    "from funs import utils"
   ]
  },
  {
   "cell_type": "code",
   "execution_count": 2,
   "metadata": {},
   "outputs": [
    {
     "name": "stdout",
     "output_type": "stream",
     "text": [
      "Wall time: 11.4 s\n"
     ]
    }
   ],
   "source": [
    "%%time\n",
    "train_df, test_df, sample_sub = utils.load_clean_traintest_csv()"
   ]
  },
  {
   "cell_type": "code",
   "execution_count": 3,
   "metadata": {},
   "outputs": [],
   "source": [
    "# before dropping, this is needed\n",
    "submission = test_df[[\"fullVisitorId\"]].copy()"
   ]
  },
  {
   "cell_type": "code",
   "execution_count": 4,
   "metadata": {},
   "outputs": [],
   "source": [
    "dev_X, dev_y, val_X, val_y, test_X = utils.create_devvaltest_based_on_date(train_df, test_df)"
   ]
  },
  {
   "cell_type": "code",
   "execution_count": 5,
   "metadata": {},
   "outputs": [],
   "source": [
    "col_to_drop_for_sure = ['visitStartTime', 'date']\n",
    "col_to_drop_bc_target = ['totals.transactionRevenue', 'totals.transactionRevenue_log1p']\n",
    "col_to_drop_for_now  = ['fullVisitorId', 'sessionId', 'trafficSource.referralPath', 'visitId']\n",
    "\n",
    "col_to_drop = col_to_drop_for_sure + col_to_drop_bc_target + col_to_drop_for_now"
   ]
  },
  {
   "cell_type": "code",
   "execution_count": 6,
   "metadata": {},
   "outputs": [
    {
     "name": "stderr",
     "output_type": "stream",
     "text": [
      "D:\\Programs\\Anaconda3\\lib\\site-packages\\pandas\\core\\frame.py:3697: SettingWithCopyWarning: \n",
      "A value is trying to be set on a copy of a slice from a DataFrame\n",
      "\n",
      "See the caveats in the documentation: http://pandas.pydata.org/pandas-docs/stable/indexing.html#indexing-view-versus-copy\n",
      "  errors=errors)\n"
     ]
    }
   ],
   "source": [
    "# in dev_X and val_X: remove them all\n",
    "for data in [dev_X, val_X]:\n",
    "    data.drop(col_to_drop, axis=1, inplace=True)\n",
    "    \n",
    "# in test_X, there is no target\n",
    "test_X.drop(col_to_drop_for_sure + col_to_drop_for_now, axis=1, inplace=True)"
   ]
  },
  {
   "cell_type": "markdown",
   "metadata": {},
   "source": [
    "-------"
   ]
  },
  {
   "cell_type": "code",
   "execution_count": 7,
   "metadata": {},
   "outputs": [],
   "source": [
    "# assertions\n",
    "assert dev_X.shape[1] == val_X.shape[1], 'num of columns of dev and val not equal'\n",
    "assert (~(dev_X.columns == val_X.columns)).sum() == 0, 'col names of dev and val are same'"
   ]
  },
  {
   "cell_type": "markdown",
   "metadata": {},
   "source": [
    "------"
   ]
  },
  {
   "cell_type": "code",
   "execution_count": 8,
   "metadata": {},
   "outputs": [
    {
     "name": "stdout",
     "output_type": "stream",
     "text": [
      "Training until validation scores don't improve for 100 rounds.\n",
      "[100]\tvalid_0's rmse: 1.6886\n",
      "[200]\tvalid_0's rmse: 1.68738\n",
      "Early stopping, best iteration is:\n",
      "[195]\tvalid_0's rmse: 1.68705\n",
      "Wall time: 12 s\n"
     ]
    }
   ],
   "source": [
    "%%time\n",
    "# custom function to run light gbm model\n",
    "# source:   https://www.kaggle.com/sudalairajkumar/simple-exploration-baseline-ga-customer-revenue\n",
    "\n",
    "def run_lgb(train_X, train_y, val_X, val_y, test_X):\n",
    "    params = {\n",
    "        \"objective\" : \"regression\",\n",
    "        \"metric\" : \"rmse\", \n",
    "        \"num_leaves\" : 30,\n",
    "        \"min_child_samples\" : 100,\n",
    "        \"learning_rate\" : 0.1,\n",
    "        \"bagging_fraction\" : 0.7,\n",
    "        \"feature_fraction\" : 0.5,\n",
    "        \"bagging_frequency\" : 5,\n",
    "        \"bagging_seed\" : 2018,\n",
    "        \"verbosity\" : -1\n",
    "    }\n",
    "    \n",
    "    lgtrain = lgb.Dataset(train_X, label=train_y)\n",
    "    lgval = lgb.Dataset(val_X, label=val_y)\n",
    "    model = lgb.train(params, lgtrain, 1000, valid_sets=[lgval], early_stopping_rounds=100, verbose_eval=100)\n",
    "    \n",
    "    pred_test_y = model.predict(test_X, num_iteration=model.best_iteration)\n",
    "    return pred_test_y, model\n",
    "\n",
    "# Training the model #\n",
    "pred_test, model = run_lgb(dev_X, dev_y, val_X, val_y, test_X)"
   ]
  },
  {
   "cell_type": "code",
   "execution_count": 10,
   "metadata": {},
   "outputs": [],
   "source": [
    "submission = utils.create_submission(existing_submission=submission, \n",
    "                                     pred_test = pred_test,\n",
    "                                     MODUS_groupby = 'sum', \n",
    "                                     output_file_name = './submissions/submission_test.csv')"
   ]
  },
  {
   "cell_type": "code",
   "execution_count": 11,
   "metadata": {},
   "outputs": [
    {
     "name": "stdout",
     "output_type": "stream",
     "text": [
      "Feature importances: [67, 254, 33, 25, 32, 185, 195, 54, 94, 190, 213, 96, 104, 31, 735, 52, 706, 6, 2, 26, 1, 0, 0, 2, 68, 40, 67, 148, 13, 51, 179, 92, 181, 188, 71, 104, 485, 220, 22, 318, 305]\n"
     ]
    }
   ],
   "source": [
    "# feature importances\n",
    "print('Feature importances:', list(model.feature_importance()))"
   ]
  },
  {
   "cell_type": "code",
   "execution_count": null,
   "metadata": {},
   "outputs": [],
   "source": [
    "# follow-up"
   ]
  },
  {
   "cell_type": "code",
   "execution_count": null,
   "metadata": {},
   "outputs": [],
   "source": [
    "# https://github.com/Microsoft/LightGBM/blob/master/examples/python-guide/sklearn_example.py"
   ]
  },
  {
   "cell_type": "code",
   "execution_count": null,
   "metadata": {},
   "outputs": [],
   "source": [
    "from sklearn.model_selection import GridSearchCV"
   ]
  },
  {
   "cell_type": "code",
   "execution_count": null,
   "metadata": {},
   "outputs": [],
   "source": [
    "# other scikit-learn modules\n",
    "estimator = lgb.LGBMRegressor(num_leaves=31)"
   ]
  },
  {
   "cell_type": "code",
   "execution_count": null,
   "metadata": {},
   "outputs": [],
   "source": [
    "param_grid = {\n",
    "    'learning_rate': [0.01, 0.1],\n",
    "    'n_estimators': [40, 60, 100, 200]\n",
    "}\n",
    "\n",
    "gbm = GridSearchCV(estimator, param_grid, cv=3)\n",
    "\n",
    "gbm.fit(dev_X, dev_y)"
   ]
  },
  {
   "cell_type": "code",
   "execution_count": null,
   "metadata": {},
   "outputs": [],
   "source": [
    "gbm.best_estimator_"
   ]
  },
  {
   "cell_type": "code",
   "execution_count": null,
   "metadata": {},
   "outputs": [],
   "source": [
    "pred_test_grid = gbm.best_estimator_.predict(test_X)"
   ]
  }
 ],
 "metadata": {
  "kernelspec": {
   "display_name": "Python 3",
   "language": "python",
   "name": "python3"
  },
  "language_info": {
   "codemirror_mode": {
    "name": "ipython",
    "version": 3
   },
   "file_extension": ".py",
   "mimetype": "text/x-python",
   "name": "python",
   "nbconvert_exporter": "python",
   "pygments_lexer": "ipython3",
   "version": "3.6.6"
  }
 },
 "nbformat": 4,
 "nbformat_minor": 2
}
