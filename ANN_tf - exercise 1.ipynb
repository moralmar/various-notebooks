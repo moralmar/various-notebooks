{
 "cells": [
  {
   "cell_type": "markdown",
   "metadata": {},
   "source": [
    "# testing tensorflow"
   ]
  },
  {
   "cell_type": "markdown",
   "metadata": {},
   "source": [
    "-- We are now in tensorflow  \n",
    "-- just installed jupyter again"
   ]
  },
  {
   "cell_type": "code",
   "execution_count": 1,
   "metadata": {},
   "outputs": [],
   "source": [
    "import tensorflow as tf"
   ]
  },
  {
   "cell_type": "markdown",
   "metadata": {},
   "source": [
    "loading tensorflow works (!!)  \n",
    "I wonder, if loading this jupyter file without changing environment works, too."
   ]
  },
  {
   "cell_type": "markdown",
   "metadata": {},
   "source": [
    "## Let's start\n",
    "\n",
    "Exercise from: \n",
    "Getting Started with TensorFlow: A Machine Learning Tutorial  \n",
    "\n",
    "Thursday, January 4, 2018  \n",
    "6:09 PM  \n",
    "\n",
    "Ausgeschnitten aus: https://www.kdnuggets.com/2017/12/getting-started-tensorflow.html#.WjlEtTE282k.linkedin![grafik.png](attachment:grafik.png)"
   ]
  },
  {
   "cell_type": "markdown",
   "metadata": {},
   "source": [
    "Easy python expression"
   ]
  },
  {
   "cell_type": "code",
   "execution_count": 2,
   "metadata": {},
   "outputs": [
    {
     "name": "stdout",
     "output_type": "stream",
     "text": [
      "3.0\n"
     ]
    }
   ],
   "source": [
    "x = -2.0\n",
    "y = 5*x + 13\n",
    "print(y)"
   ]
  },
  {
   "cell_type": "code",
   "execution_count": 3,
   "metadata": {},
   "outputs": [
    {
     "name": "stdout",
     "output_type": "stream",
     "text": [
      "3.0\n"
     ]
    }
   ],
   "source": [
    "# constant in tensorflow:\n",
    "# z = tf.constant(5.2, name=\"x\", dtype=tf.float32) \n",
    "\n",
    "# variables in tensorflow:\n",
    "# k = tf.Variable(tf.zeros([1]), name=\"k\") \n",
    "# or like this:\n",
    "# k = tf.Variable(tf.add(a, b), trainable=False) \n",
    "\n",
    "\n",
    "import tensorflow as tf\n",
    "\n",
    "x = tf.constant(-2.0, name=\"x\", dtype=tf.float32)\n",
    "a = tf.constant(5.0, name=\"a\", dtype=tf.float32)\n",
    "b = tf.constant(13.0, name=\"b\", dtype=tf.float32)\n",
    "\n",
    "y = tf.Variable(tf.add(tf.multiply(a, x), b))\n",
    "\n",
    "init = tf.global_variables_initializer()\n",
    "\n",
    "with tf.Session() as session:\n",
    "    merged = tf.summary.merge_all() #// new\n",
    "    writer = tf.summary.FileWriter(\"logs\", session.graph) #// new\n",
    "\n",
    "\n",
    "    session.run(init)\n",
    "    print(session.run(y)) \n"
   ]
  },
  {
   "cell_type": "markdown",
   "metadata": {},
   "source": [
    "then:  \n",
    "- open prompt with tensorflow as environment (easy: from Anaconda)  \n",
    "- wirte this: \"tensorboard --logdir logs/\"  \n",
    "- a url should be given, for instance:  \n",
    "http://mmorsurfacepro:6006 (local host)  \n",
    "\n",
    "go to it"
   ]
  },
  {
   "cell_type": "code",
   "execution_count": null,
   "metadata": {},
   "outputs": [],
   "source": []
  }
 ],
 "metadata": {
  "kernelspec": {
   "display_name": "Python 3",
   "language": "python",
   "name": "python3"
  },
  "language_info": {
   "codemirror_mode": {
    "name": "ipython",
    "version": 3
   },
   "file_extension": ".py",
   "mimetype": "text/x-python",
   "name": "python",
   "nbconvert_exporter": "python",
   "pygments_lexer": "ipython3",
   "version": "3.5.4"
  }
 },
 "nbformat": 4,
 "nbformat_minor": 2
}
