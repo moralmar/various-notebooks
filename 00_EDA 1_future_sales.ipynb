{
 "cells": [
  {
   "cell_type": "markdown",
   "metadata": {},
   "source": [
    "# Final Project - Predict Future Sales\n",
    "\n",
    "The competition can be found here: https://www.kaggle.com/c/competitive-data-science-predict-future-sales  \n",
    "The coursera course can be found here: https://www.coursera.org/\n",
    "\n"
   ]
  },
  {
   "cell_type": "markdown",
   "metadata": {},
   "source": [
    "-----"
   ]
  },
  {
   "cell_type": "markdown",
   "metadata": {},
   "source": [
    "#### Packages"
   ]
  },
  {
   "cell_type": "code",
   "execution_count": 1,
   "metadata": {},
   "outputs": [
    {
     "name": "stdout",
     "output_type": "stream",
     "text": [
      "numpy 1.14.5\n",
      "pandas 0.23.1\n"
     ]
    }
   ],
   "source": [
    "import os\n",
    "import pandas as pd\n",
    "import numpy as np\n",
    "\n",
    "from itertools import product\n",
    "\n",
    "from IPython.core.interactiveshell import InteractiveShell\n",
    "InteractiveShell.ast_node_interactivity = \"all\"\n",
    "\n",
    "%matplotlib inline\n",
    "\n",
    "for p in [np, pd]:\n",
    "    print (p.__name__, p.__version__)"
   ]
  },
  {
   "cell_type": "code",
   "execution_count": 2,
   "metadata": {},
   "outputs": [],
   "source": [
    "data_folder_loc = '../00_data'"
   ]
  },
  {
   "cell_type": "markdown",
   "metadata": {},
   "source": [
    "#### Import Data"
   ]
  },
  {
   "cell_type": "code",
   "execution_count": 3,
   "metadata": {},
   "outputs": [],
   "source": [
    "sales = pd.read_csv(os.path.join(data_folder_loc, 'sales_train.csv.gz'))\n",
    "test = pd.read_csv(os.path.join(data_folder_loc, 'test.csv.gz'))\n",
    "submission = pd.read_csv(os.path.join(data_folder_loc, 'sample_submission.csv.gz'))\n",
    "items = pd.read_csv(os.path.join(data_folder_loc, 'items.csv'))\n",
    "item_categories = pd.read_csv(os.path.join(data_folder_loc, 'item_categories.csv'))\n",
    "shops = pd.read_csv(os.path.join(data_folder_loc, 'shops.csv'))"
   ]
  },
  {
   "cell_type": "code",
   "execution_count": 4,
   "metadata": {},
   "outputs": [
    {
     "name": "stdout",
     "output_type": "stream",
     "text": [
      "shop IDs are inside shop data - testing test:   True\n",
      "shop IDs are inside shop data - testing train:  True\n",
      "\n",
      "item IDs are inside item data - testing test:   True\n",
      "item IDs are inside item data - testing train:  True\n",
      "\n",
      "item IDs are inside item data - testing train:  True\n",
      "\n"
     ]
    }
   ],
   "source": [
    "# I few checks for me\n",
    "\n",
    "# checking if the shop_ids are all present in the shops-data\n",
    "print('shop IDs are inside shop data - testing test:  ', test['shop_id'].isin(shops['shop_id']).all())\n",
    "print('shop IDs are inside shop data - testing train: ', sales['shop_id'].isin(shops['shop_id']).all())\n",
    "print()\n",
    "# checking if the item_ids are all present in item-data\n",
    "print('item IDs are inside item data - testing test:  ', test['item_id'].isin(items['item_id']).all())\n",
    "print('item IDs are inside item data - testing train: ', sales['item_id'].isin(items['item_id']).all())\n",
    "print()\n",
    "# checking if item-category_ids are all present in item-category-data\n",
    "print('item IDs are inside item data - testing train: ', items['item_category_id'].isin(item_categories['item_category_id']).all())\n",
    "print()"
   ]
  },
  {
   "cell_type": "markdown",
   "metadata": {},
   "source": [
    "# Cleaning & Re-formatting"
   ]
  },
  {
   "cell_type": "markdown",
   "metadata": {},
   "source": [
    "#### Date\n",
    "- correct the **date** format\n",
    "- add **month**\n",
    "- add **year**"
   ]
  },
  {
   "cell_type": "code",
   "execution_count": 5,
   "metadata": {},
   "outputs": [],
   "source": [
    "# date - correct format\n",
    "sales['date'] = pd.to_datetime(sales['date'], format='%d.%m.%Y')\n",
    "# date - add month\n",
    "sales['newcol_month'] = sales['date'].dt.month\n",
    "# date - add year\n",
    "sales['newcol_year'] = sales['date'].dt.year\n",
    "# period\n",
    "sales['newcol_period'] = sales['date'].apply(lambda x: str(x)[:7])"
   ]
  },
  {
   "cell_type": "code",
   "execution_count": 6,
   "metadata": {},
   "outputs": [],
   "source": [
    "# index - for counting purposes\n",
    "sales = sales.reset_index()"
   ]
  },
  {
   "cell_type": "code",
   "execution_count": 7,
   "metadata": {},
   "outputs": [
    {
     "data": {
      "text/html": [
       "<div>\n",
       "<style scoped>\n",
       "    .dataframe tbody tr th:only-of-type {\n",
       "        vertical-align: middle;\n",
       "    }\n",
       "\n",
       "    .dataframe tbody tr th {\n",
       "        vertical-align: top;\n",
       "    }\n",
       "\n",
       "    .dataframe thead th {\n",
       "        text-align: right;\n",
       "    }\n",
       "</style>\n",
       "<table border=\"1\" class=\"dataframe\">\n",
       "  <thead>\n",
       "    <tr style=\"text-align: right;\">\n",
       "      <th></th>\n",
       "      <th>index</th>\n",
       "      <th>date</th>\n",
       "      <th>date_block_num</th>\n",
       "      <th>shop_id</th>\n",
       "      <th>item_id</th>\n",
       "      <th>item_price</th>\n",
       "      <th>item_cnt_day</th>\n",
       "      <th>newcol_month</th>\n",
       "      <th>newcol_year</th>\n",
       "      <th>newcol_period</th>\n",
       "    </tr>\n",
       "  </thead>\n",
       "  <tbody>\n",
       "    <tr>\n",
       "      <th>0</th>\n",
       "      <td>0</td>\n",
       "      <td>2013-01-02</td>\n",
       "      <td>0</td>\n",
       "      <td>59</td>\n",
       "      <td>22154</td>\n",
       "      <td>999.00</td>\n",
       "      <td>1.0</td>\n",
       "      <td>1</td>\n",
       "      <td>2013</td>\n",
       "      <td>2013-01</td>\n",
       "    </tr>\n",
       "    <tr>\n",
       "      <th>1</th>\n",
       "      <td>1</td>\n",
       "      <td>2013-01-03</td>\n",
       "      <td>0</td>\n",
       "      <td>25</td>\n",
       "      <td>2552</td>\n",
       "      <td>899.00</td>\n",
       "      <td>1.0</td>\n",
       "      <td>1</td>\n",
       "      <td>2013</td>\n",
       "      <td>2013-01</td>\n",
       "    </tr>\n",
       "    <tr>\n",
       "      <th>2</th>\n",
       "      <td>2</td>\n",
       "      <td>2013-01-05</td>\n",
       "      <td>0</td>\n",
       "      <td>25</td>\n",
       "      <td>2552</td>\n",
       "      <td>899.00</td>\n",
       "      <td>-1.0</td>\n",
       "      <td>1</td>\n",
       "      <td>2013</td>\n",
       "      <td>2013-01</td>\n",
       "    </tr>\n",
       "    <tr>\n",
       "      <th>3</th>\n",
       "      <td>3</td>\n",
       "      <td>2013-01-06</td>\n",
       "      <td>0</td>\n",
       "      <td>25</td>\n",
       "      <td>2554</td>\n",
       "      <td>1709.05</td>\n",
       "      <td>1.0</td>\n",
       "      <td>1</td>\n",
       "      <td>2013</td>\n",
       "      <td>2013-01</td>\n",
       "    </tr>\n",
       "    <tr>\n",
       "      <th>4</th>\n",
       "      <td>4</td>\n",
       "      <td>2013-01-15</td>\n",
       "      <td>0</td>\n",
       "      <td>25</td>\n",
       "      <td>2555</td>\n",
       "      <td>1099.00</td>\n",
       "      <td>1.0</td>\n",
       "      <td>1</td>\n",
       "      <td>2013</td>\n",
       "      <td>2013-01</td>\n",
       "    </tr>\n",
       "    <tr>\n",
       "      <th>5</th>\n",
       "      <td>5</td>\n",
       "      <td>2013-01-10</td>\n",
       "      <td>0</td>\n",
       "      <td>25</td>\n",
       "      <td>2564</td>\n",
       "      <td>349.00</td>\n",
       "      <td>1.0</td>\n",
       "      <td>1</td>\n",
       "      <td>2013</td>\n",
       "      <td>2013-01</td>\n",
       "    </tr>\n",
       "    <tr>\n",
       "      <th>6</th>\n",
       "      <td>6</td>\n",
       "      <td>2013-01-02</td>\n",
       "      <td>0</td>\n",
       "      <td>25</td>\n",
       "      <td>2565</td>\n",
       "      <td>549.00</td>\n",
       "      <td>1.0</td>\n",
       "      <td>1</td>\n",
       "      <td>2013</td>\n",
       "      <td>2013-01</td>\n",
       "    </tr>\n",
       "    <tr>\n",
       "      <th>7</th>\n",
       "      <td>7</td>\n",
       "      <td>2013-01-04</td>\n",
       "      <td>0</td>\n",
       "      <td>25</td>\n",
       "      <td>2572</td>\n",
       "      <td>239.00</td>\n",
       "      <td>1.0</td>\n",
       "      <td>1</td>\n",
       "      <td>2013</td>\n",
       "      <td>2013-01</td>\n",
       "    </tr>\n",
       "    <tr>\n",
       "      <th>8</th>\n",
       "      <td>8</td>\n",
       "      <td>2013-01-11</td>\n",
       "      <td>0</td>\n",
       "      <td>25</td>\n",
       "      <td>2572</td>\n",
       "      <td>299.00</td>\n",
       "      <td>1.0</td>\n",
       "      <td>1</td>\n",
       "      <td>2013</td>\n",
       "      <td>2013-01</td>\n",
       "    </tr>\n",
       "  </tbody>\n",
       "</table>\n",
       "</div>"
      ],
      "text/plain": [
       "   index       date  date_block_num  shop_id  item_id  item_price  \\\n",
       "0      0 2013-01-02               0       59    22154      999.00   \n",
       "1      1 2013-01-03               0       25     2552      899.00   \n",
       "2      2 2013-01-05               0       25     2552      899.00   \n",
       "3      3 2013-01-06               0       25     2554     1709.05   \n",
       "4      4 2013-01-15               0       25     2555     1099.00   \n",
       "5      5 2013-01-10               0       25     2564      349.00   \n",
       "6      6 2013-01-02               0       25     2565      549.00   \n",
       "7      7 2013-01-04               0       25     2572      239.00   \n",
       "8      8 2013-01-11               0       25     2572      299.00   \n",
       "\n",
       "   item_cnt_day  newcol_month  newcol_year newcol_period  \n",
       "0           1.0             1         2013       2013-01  \n",
       "1           1.0             1         2013       2013-01  \n",
       "2          -1.0             1         2013       2013-01  \n",
       "3           1.0             1         2013       2013-01  \n",
       "4           1.0             1         2013       2013-01  \n",
       "5           1.0             1         2013       2013-01  \n",
       "6           1.0             1         2013       2013-01  \n",
       "7           1.0             1         2013       2013-01  \n",
       "8           1.0             1         2013       2013-01  "
      ]
     },
     "execution_count": 7,
     "metadata": {},
     "output_type": "execute_result"
    }
   ],
   "source": [
    "sales.head(9)"
   ]
  },
  {
   "cell_type": "code",
   "execution_count": 8,
   "metadata": {},
   "outputs": [
    {
     "data": {
      "text/html": [
       "<div>\n",
       "<style scoped>\n",
       "    .dataframe tbody tr th:only-of-type {\n",
       "        vertical-align: middle;\n",
       "    }\n",
       "\n",
       "    .dataframe tbody tr th {\n",
       "        vertical-align: top;\n",
       "    }\n",
       "\n",
       "    .dataframe thead th {\n",
       "        text-align: right;\n",
       "    }\n",
       "</style>\n",
       "<table border=\"1\" class=\"dataframe\">\n",
       "  <thead>\n",
       "    <tr style=\"text-align: right;\">\n",
       "      <th></th>\n",
       "      <th>newcol_ID</th>\n",
       "      <th>date</th>\n",
       "      <th>date_block_num</th>\n",
       "      <th>shop_id</th>\n",
       "      <th>item_id</th>\n",
       "      <th>item_price</th>\n",
       "      <th>item_cnt_day</th>\n",
       "      <th>newcol_month</th>\n",
       "      <th>newcol_year</th>\n",
       "      <th>newcol_period</th>\n",
       "    </tr>\n",
       "  </thead>\n",
       "  <tbody>\n",
       "    <tr>\n",
       "      <th>0</th>\n",
       "      <td>0</td>\n",
       "      <td>2013-01-02</td>\n",
       "      <td>0</td>\n",
       "      <td>59</td>\n",
       "      <td>22154</td>\n",
       "      <td>999.00</td>\n",
       "      <td>1.0</td>\n",
       "      <td>1</td>\n",
       "      <td>2013</td>\n",
       "      <td>2013-01</td>\n",
       "    </tr>\n",
       "    <tr>\n",
       "      <th>1</th>\n",
       "      <td>1</td>\n",
       "      <td>2013-01-03</td>\n",
       "      <td>0</td>\n",
       "      <td>25</td>\n",
       "      <td>2552</td>\n",
       "      <td>899.00</td>\n",
       "      <td>1.0</td>\n",
       "      <td>1</td>\n",
       "      <td>2013</td>\n",
       "      <td>2013-01</td>\n",
       "    </tr>\n",
       "    <tr>\n",
       "      <th>2</th>\n",
       "      <td>2</td>\n",
       "      <td>2013-01-05</td>\n",
       "      <td>0</td>\n",
       "      <td>25</td>\n",
       "      <td>2552</td>\n",
       "      <td>899.00</td>\n",
       "      <td>-1.0</td>\n",
       "      <td>1</td>\n",
       "      <td>2013</td>\n",
       "      <td>2013-01</td>\n",
       "    </tr>\n",
       "    <tr>\n",
       "      <th>3</th>\n",
       "      <td>3</td>\n",
       "      <td>2013-01-06</td>\n",
       "      <td>0</td>\n",
       "      <td>25</td>\n",
       "      <td>2554</td>\n",
       "      <td>1709.05</td>\n",
       "      <td>1.0</td>\n",
       "      <td>1</td>\n",
       "      <td>2013</td>\n",
       "      <td>2013-01</td>\n",
       "    </tr>\n",
       "    <tr>\n",
       "      <th>4</th>\n",
       "      <td>4</td>\n",
       "      <td>2013-01-15</td>\n",
       "      <td>0</td>\n",
       "      <td>25</td>\n",
       "      <td>2555</td>\n",
       "      <td>1099.00</td>\n",
       "      <td>1.0</td>\n",
       "      <td>1</td>\n",
       "      <td>2013</td>\n",
       "      <td>2013-01</td>\n",
       "    </tr>\n",
       "  </tbody>\n",
       "</table>\n",
       "</div>"
      ],
      "text/plain": [
       "   newcol_ID       date  date_block_num  shop_id  item_id  item_price  \\\n",
       "0          0 2013-01-02               0       59    22154      999.00   \n",
       "1          1 2013-01-03               0       25     2552      899.00   \n",
       "2          2 2013-01-05               0       25     2552      899.00   \n",
       "3          3 2013-01-06               0       25     2554     1709.05   \n",
       "4          4 2013-01-15               0       25     2555     1099.00   \n",
       "\n",
       "   item_cnt_day  newcol_month  newcol_year newcol_period  \n",
       "0           1.0             1         2013       2013-01  \n",
       "1           1.0             1         2013       2013-01  \n",
       "2          -1.0             1         2013       2013-01  \n",
       "3           1.0             1         2013       2013-01  \n",
       "4           1.0             1         2013       2013-01  "
      ]
     },
     "execution_count": 8,
     "metadata": {},
     "output_type": "execute_result"
    }
   ],
   "source": [
    "sales.rename(columns={'index':'newcol_ID'}, inplace=True)\n",
    "sales.head()"
   ]
  },
  {
   "cell_type": "markdown",
   "metadata": {},
   "source": [
    "These are our sales features so far: "
   ]
  },
  {
   "cell_type": "code",
   "execution_count": 9,
   "metadata": {},
   "outputs": [
    {
     "name": "stdout",
     "output_type": "stream",
     "text": [
      "dtype  i  for feature:  newcol_ID\n",
      "dtype  M  for feature:  date\n",
      "dtype  i  for feature:  date_block_num\n",
      "dtype  i  for feature:  shop_id\n",
      "dtype  i  for feature:  item_id\n",
      "dtype  f  for feature:  item_price\n",
      "dtype  f  for feature:  item_cnt_day\n",
      "dtype  i  for feature:  newcol_month\n",
      "dtype  i  for feature:  newcol_year\n",
      "dtype  O  for feature:  newcol_period\n"
     ]
    }
   ],
   "source": [
    "for i in sales.columns:\n",
    "    print('dtype ', sales[i].dtype.kind, ' for feature: ', i )\n",
    "    \n",
    "#A character code (one of ‘biufcmMOSUV’) identifying the general kind of data.\n",
    "#b \tboolean\n",
    "#i \tsigned integer\n",
    "#u \tunsigned integer\n",
    "#f \tfloating-point\n",
    "#c \tcomplex floating-point\n",
    "#m \ttimedelta\n",
    "#M \tdatetime\n",
    "#O \tobject\n",
    "#S \t(byte-)string\n",
    "#U \tUnicode\n",
    "#V \tvoid"
   ]
  },
  {
   "cell_type": "markdown",
   "metadata": {},
   "source": [
    "# EDA - Exploratory Data Analysis\n",
    "Before merging or aggregating the data sets, let's first look at what is presented to us:"
   ]
  },
  {
   "cell_type": "code",
   "execution_count": 10,
   "metadata": {},
   "outputs": [
    {
     "name": "stdout",
     "output_type": "stream",
     "text": [
      "train data      - shape:  (2935849, 10)\n",
      "test data       - shape:  (214200, 3)\n",
      "submission      - shape:  (214200, 2)\n",
      "items           - shape:  (22170, 3)\n",
      "item_categories - shape:  (84, 2)\n",
      "shops           - shape:  (60, 2)\n"
     ]
    }
   ],
   "source": [
    "print('train data      - shape: ', sales.shape)\n",
    "print('test data       - shape: ', test.shape)\n",
    "print('submission      - shape: ', submission.shape)\n",
    "print('items           - shape: ', items.shape)\n",
    "print('item_categories - shape: ', item_categories.shape)\n",
    "print('shops           - shape: ', shops.shape)"
   ]
  },
  {
   "cell_type": "code",
   "execution_count": 11,
   "metadata": {},
   "outputs": [
    {
     "data": {
      "text/html": [
       "<div>\n",
       "<style scoped>\n",
       "    .dataframe tbody tr th:only-of-type {\n",
       "        vertical-align: middle;\n",
       "    }\n",
       "\n",
       "    .dataframe tbody tr th {\n",
       "        vertical-align: top;\n",
       "    }\n",
       "\n",
       "    .dataframe thead th {\n",
       "        text-align: right;\n",
       "    }\n",
       "</style>\n",
       "<table border=\"1\" class=\"dataframe\">\n",
       "  <thead>\n",
       "    <tr style=\"text-align: right;\">\n",
       "      <th></th>\n",
       "      <th>newcol_ID</th>\n",
       "      <th>date</th>\n",
       "      <th>date_block_num</th>\n",
       "      <th>shop_id</th>\n",
       "      <th>item_id</th>\n",
       "      <th>item_price</th>\n",
       "      <th>item_cnt_day</th>\n",
       "      <th>newcol_month</th>\n",
       "      <th>newcol_year</th>\n",
       "      <th>newcol_period</th>\n",
       "    </tr>\n",
       "  </thead>\n",
       "  <tbody>\n",
       "    <tr>\n",
       "      <th>0</th>\n",
       "      <td>0</td>\n",
       "      <td>2013-01-02</td>\n",
       "      <td>0</td>\n",
       "      <td>59</td>\n",
       "      <td>22154</td>\n",
       "      <td>999.00</td>\n",
       "      <td>1.0</td>\n",
       "      <td>1</td>\n",
       "      <td>2013</td>\n",
       "      <td>2013-01</td>\n",
       "    </tr>\n",
       "    <tr>\n",
       "      <th>1</th>\n",
       "      <td>1</td>\n",
       "      <td>2013-01-03</td>\n",
       "      <td>0</td>\n",
       "      <td>25</td>\n",
       "      <td>2552</td>\n",
       "      <td>899.00</td>\n",
       "      <td>1.0</td>\n",
       "      <td>1</td>\n",
       "      <td>2013</td>\n",
       "      <td>2013-01</td>\n",
       "    </tr>\n",
       "    <tr>\n",
       "      <th>2</th>\n",
       "      <td>2</td>\n",
       "      <td>2013-01-05</td>\n",
       "      <td>0</td>\n",
       "      <td>25</td>\n",
       "      <td>2552</td>\n",
       "      <td>899.00</td>\n",
       "      <td>-1.0</td>\n",
       "      <td>1</td>\n",
       "      <td>2013</td>\n",
       "      <td>2013-01</td>\n",
       "    </tr>\n",
       "    <tr>\n",
       "      <th>3</th>\n",
       "      <td>3</td>\n",
       "      <td>2013-01-06</td>\n",
       "      <td>0</td>\n",
       "      <td>25</td>\n",
       "      <td>2554</td>\n",
       "      <td>1709.05</td>\n",
       "      <td>1.0</td>\n",
       "      <td>1</td>\n",
       "      <td>2013</td>\n",
       "      <td>2013-01</td>\n",
       "    </tr>\n",
       "    <tr>\n",
       "      <th>4</th>\n",
       "      <td>4</td>\n",
       "      <td>2013-01-15</td>\n",
       "      <td>0</td>\n",
       "      <td>25</td>\n",
       "      <td>2555</td>\n",
       "      <td>1099.00</td>\n",
       "      <td>1.0</td>\n",
       "      <td>1</td>\n",
       "      <td>2013</td>\n",
       "      <td>2013-01</td>\n",
       "    </tr>\n",
       "  </tbody>\n",
       "</table>\n",
       "</div>"
      ],
      "text/plain": [
       "   newcol_ID       date  date_block_num  shop_id  item_id  item_price  \\\n",
       "0          0 2013-01-02               0       59    22154      999.00   \n",
       "1          1 2013-01-03               0       25     2552      899.00   \n",
       "2          2 2013-01-05               0       25     2552      899.00   \n",
       "3          3 2013-01-06               0       25     2554     1709.05   \n",
       "4          4 2013-01-15               0       25     2555     1099.00   \n",
       "\n",
       "   item_cnt_day  newcol_month  newcol_year newcol_period  \n",
       "0           1.0             1         2013       2013-01  \n",
       "1           1.0             1         2013       2013-01  \n",
       "2          -1.0             1         2013       2013-01  \n",
       "3           1.0             1         2013       2013-01  \n",
       "4           1.0             1         2013       2013-01  "
      ]
     },
     "execution_count": 11,
     "metadata": {},
     "output_type": "execute_result"
    },
    {
     "data": {
      "text/html": [
       "<div>\n",
       "<style scoped>\n",
       "    .dataframe tbody tr th:only-of-type {\n",
       "        vertical-align: middle;\n",
       "    }\n",
       "\n",
       "    .dataframe tbody tr th {\n",
       "        vertical-align: top;\n",
       "    }\n",
       "\n",
       "    .dataframe thead th {\n",
       "        text-align: right;\n",
       "    }\n",
       "</style>\n",
       "<table border=\"1\" class=\"dataframe\">\n",
       "  <thead>\n",
       "    <tr style=\"text-align: right;\">\n",
       "      <th></th>\n",
       "      <th>ID</th>\n",
       "      <th>shop_id</th>\n",
       "      <th>item_id</th>\n",
       "    </tr>\n",
       "  </thead>\n",
       "  <tbody>\n",
       "    <tr>\n",
       "      <th>0</th>\n",
       "      <td>0</td>\n",
       "      <td>5</td>\n",
       "      <td>5037</td>\n",
       "    </tr>\n",
       "    <tr>\n",
       "      <th>1</th>\n",
       "      <td>1</td>\n",
       "      <td>5</td>\n",
       "      <td>5320</td>\n",
       "    </tr>\n",
       "    <tr>\n",
       "      <th>2</th>\n",
       "      <td>2</td>\n",
       "      <td>5</td>\n",
       "      <td>5233</td>\n",
       "    </tr>\n",
       "    <tr>\n",
       "      <th>3</th>\n",
       "      <td>3</td>\n",
       "      <td>5</td>\n",
       "      <td>5232</td>\n",
       "    </tr>\n",
       "    <tr>\n",
       "      <th>4</th>\n",
       "      <td>4</td>\n",
       "      <td>5</td>\n",
       "      <td>5268</td>\n",
       "    </tr>\n",
       "  </tbody>\n",
       "</table>\n",
       "</div>"
      ],
      "text/plain": [
       "   ID  shop_id  item_id\n",
       "0   0        5     5037\n",
       "1   1        5     5320\n",
       "2   2        5     5233\n",
       "3   3        5     5232\n",
       "4   4        5     5268"
      ]
     },
     "execution_count": 11,
     "metadata": {},
     "output_type": "execute_result"
    }
   ],
   "source": [
    "sales.head()\n",
    "test.head()"
   ]
  },
  {
   "cell_type": "code",
   "execution_count": 12,
   "metadata": {},
   "outputs": [
    {
     "data": {
      "text/html": [
       "<div>\n",
       "<style scoped>\n",
       "    .dataframe tbody tr th:only-of-type {\n",
       "        vertical-align: middle;\n",
       "    }\n",
       "\n",
       "    .dataframe tbody tr th {\n",
       "        vertical-align: top;\n",
       "    }\n",
       "\n",
       "    .dataframe thead th {\n",
       "        text-align: right;\n",
       "    }\n",
       "</style>\n",
       "<table border=\"1\" class=\"dataframe\">\n",
       "  <thead>\n",
       "    <tr style=\"text-align: right;\">\n",
       "      <th></th>\n",
       "      <th>newcol_ID</th>\n",
       "    </tr>\n",
       "    <tr>\n",
       "      <th>newcol_period</th>\n",
       "      <th></th>\n",
       "    </tr>\n",
       "  </thead>\n",
       "  <tbody>\n",
       "    <tr>\n",
       "      <th>2013-01</th>\n",
       "      <td>115690</td>\n",
       "    </tr>\n",
       "    <tr>\n",
       "      <th>2013-02</th>\n",
       "      <td>108613</td>\n",
       "    </tr>\n",
       "    <tr>\n",
       "      <th>2013-03</th>\n",
       "      <td>121347</td>\n",
       "    </tr>\n",
       "    <tr>\n",
       "      <th>2013-04</th>\n",
       "      <td>94109</td>\n",
       "    </tr>\n",
       "    <tr>\n",
       "      <th>2013-05</th>\n",
       "      <td>91759</td>\n",
       "    </tr>\n",
       "  </tbody>\n",
       "</table>\n",
       "</div>"
      ],
      "text/plain": [
       "               newcol_ID\n",
       "newcol_period           \n",
       "2013-01           115690\n",
       "2013-02           108613\n",
       "2013-03           121347\n",
       "2013-04            94109\n",
       "2013-05            91759"
      ]
     },
     "execution_count": 12,
     "metadata": {},
     "output_type": "execute_result"
    }
   ],
   "source": [
    "# aggregating to period\n",
    "# counting the indexes - counting the number of records in each period\n",
    "pivot_period = pd.pivot_table(data=sales[['newcol_period', 'newcol_ID']], index=['newcol_period'],  aggfunc='count')#.reset_index()\n",
    "pivot_period.head()"
   ]
  },
  {
   "cell_type": "code",
   "execution_count": 13,
   "metadata": {},
   "outputs": [
    {
     "data": {
      "text/html": [
       "<div>\n",
       "<style scoped>\n",
       "    .dataframe tbody tr th:only-of-type {\n",
       "        vertical-align: middle;\n",
       "    }\n",
       "\n",
       "    .dataframe tbody tr th {\n",
       "        vertical-align: top;\n",
       "    }\n",
       "\n",
       "    .dataframe thead th {\n",
       "        text-align: right;\n",
       "    }\n",
       "</style>\n",
       "<table border=\"1\" class=\"dataframe\">\n",
       "  <thead>\n",
       "    <tr style=\"text-align: right;\">\n",
       "      <th></th>\n",
       "      <th>newcol_ID</th>\n",
       "    </tr>\n",
       "    <tr>\n",
       "      <th>newcol_period</th>\n",
       "      <th></th>\n",
       "    </tr>\n",
       "  </thead>\n",
       "  <tbody>\n",
       "    <tr>\n",
       "      <th>2015-09</th>\n",
       "      <td>50588</td>\n",
       "    </tr>\n",
       "    <tr>\n",
       "      <th>2015-10</th>\n",
       "      <td>53514</td>\n",
       "    </tr>\n",
       "    <tr>\n",
       "      <th>2015-05</th>\n",
       "      <td>54548</td>\n",
       "    </tr>\n",
       "    <tr>\n",
       "      <th>2015-06</th>\n",
       "      <td>54617</td>\n",
       "    </tr>\n",
       "    <tr>\n",
       "      <th>2015-07</th>\n",
       "      <td>55549</td>\n",
       "    </tr>\n",
       "  </tbody>\n",
       "</table>\n",
       "</div>"
      ],
      "text/plain": [
       "               newcol_ID\n",
       "newcol_period           \n",
       "2015-09            50588\n",
       "2015-10            53514\n",
       "2015-05            54548\n",
       "2015-06            54617\n",
       "2015-07            55549"
      ]
     },
     "execution_count": 13,
     "metadata": {},
     "output_type": "execute_result"
    }
   ],
   "source": [
    "# the lowest 5 months\n",
    "pivot_period.sort_values('newcol_ID')[0:5]"
   ]
  },
  {
   "cell_type": "code",
   "execution_count": 14,
   "metadata": {},
   "outputs": [
    {
     "data": {
      "text/html": [
       "<div>\n",
       "<style scoped>\n",
       "    .dataframe tbody tr th:only-of-type {\n",
       "        vertical-align: middle;\n",
       "    }\n",
       "\n",
       "    .dataframe tbody tr th {\n",
       "        vertical-align: top;\n",
       "    }\n",
       "\n",
       "    .dataframe thead th {\n",
       "        text-align: right;\n",
       "    }\n",
       "</style>\n",
       "<table border=\"1\" class=\"dataframe\">\n",
       "  <thead>\n",
       "    <tr style=\"text-align: right;\">\n",
       "      <th></th>\n",
       "      <th>newcol_ID</th>\n",
       "    </tr>\n",
       "    <tr>\n",
       "      <th>newcol_period</th>\n",
       "      <th></th>\n",
       "    </tr>\n",
       "  </thead>\n",
       "  <tbody>\n",
       "    <tr>\n",
       "      <th>2013-12</th>\n",
       "      <td>143246</td>\n",
       "    </tr>\n",
       "    <tr>\n",
       "      <th>2014-12</th>\n",
       "      <td>130786</td>\n",
       "    </tr>\n",
       "    <tr>\n",
       "      <th>2013-03</th>\n",
       "      <td>121347</td>\n",
       "    </tr>\n",
       "    <tr>\n",
       "      <th>2013-01</th>\n",
       "      <td>115690</td>\n",
       "    </tr>\n",
       "    <tr>\n",
       "      <th>2013-02</th>\n",
       "      <td>108613</td>\n",
       "    </tr>\n",
       "  </tbody>\n",
       "</table>\n",
       "</div>"
      ],
      "text/plain": [
       "               newcol_ID\n",
       "newcol_period           \n",
       "2013-12           143246\n",
       "2014-12           130786\n",
       "2013-03           121347\n",
       "2013-01           115690\n",
       "2013-02           108613"
      ]
     },
     "execution_count": 14,
     "metadata": {},
     "output_type": "execute_result"
    }
   ],
   "source": [
    "# the highest 5 months\n",
    "pivot_period.sort_values('newcol_ID', ascending=False)[0:5]"
   ]
  },
  {
   "cell_type": "code",
   "execution_count": 15,
   "metadata": {},
   "outputs": [
    {
     "name": "stdout",
     "output_type": "stream",
     "text": [
      "The period starts at:   2013-01\n",
      "         and ends at:   2015-10\n"
     ]
    }
   ],
   "source": [
    "print('The period starts at:  ', pivot_period.index.min())\n",
    "print('         and ends at:  ', pivot_period.index.max())"
   ]
  },
  {
   "cell_type": "code",
   "execution_count": 16,
   "metadata": {},
   "outputs": [
    {
     "data": {
      "image/png": "[encoded data removed]",
      "text/plain": [
       "<matplotlib.figure.Figure at 0x28146069ba8>"
      ]
     },
     "metadata": {},
     "output_type": "display_data"
    }
   ],
   "source": [
    "pivot_period.plot();"
   ]
  },
  {
   "cell_type": "markdown",
   "metadata": {},
   "source": [
    "though you might not see it, the x-axis ( = period) is chronological.\n",
    "There are two spikes in:\n",
    "- December 2013\n",
    "- December 2014 \n",
    "\n",
    "I guess, these are the typical X-mas sales.  \n",
    "Interesting to note is, that the records are dopping over time. If we would compare the number of records in 2013 and 2014, they should differ quite significantly."
   ]
  },
  {
   "cell_type": "code",
   "execution_count": 17,
   "metadata": {},
   "outputs": [
    {
     "data": {
      "text/html": [
       "<div>\n",
       "<style scoped>\n",
       "    .dataframe tbody tr th:only-of-type {\n",
       "        vertical-align: middle;\n",
       "    }\n",
       "\n",
       "    .dataframe tbody tr th {\n",
       "        vertical-align: top;\n",
       "    }\n",
       "\n",
       "    .dataframe thead th {\n",
       "        text-align: right;\n",
       "    }\n",
       "</style>\n",
       "<table border=\"1\" class=\"dataframe\">\n",
       "  <thead>\n",
       "    <tr style=\"text-align: right;\">\n",
       "      <th></th>\n",
       "      <th>newcol_ID</th>\n",
       "    </tr>\n",
       "    <tr>\n",
       "      <th>newcol_year</th>\n",
       "      <th></th>\n",
       "    </tr>\n",
       "  </thead>\n",
       "  <tbody>\n",
       "    <tr>\n",
       "      <th>2013</th>\n",
       "      <td>1267562</td>\n",
       "    </tr>\n",
       "    <tr>\n",
       "      <th>2014</th>\n",
       "      <td>1055861</td>\n",
       "    </tr>\n",
       "    <tr>\n",
       "      <th>2015</th>\n",
       "      <td>612426</td>\n",
       "    </tr>\n",
       "  </tbody>\n",
       "</table>\n",
       "</div>"
      ],
      "text/plain": [
       "             newcol_ID\n",
       "newcol_year           \n",
       "2013           1267562\n",
       "2014           1055861\n",
       "2015            612426"
      ]
     },
     "execution_count": 17,
     "metadata": {},
     "output_type": "execute_result"
    },
    {
     "name": "stdout",
     "output_type": "stream",
     "text": [
      "From 2013 to 2014, there is a drop of:  16.7014315670555 %\n"
     ]
    }
   ],
   "source": [
    "# aggregating to year\n",
    "# counting the indexes - counting the number of records in each period\n",
    "pivot_year = pd.pivot_table(data=sales[['newcol_year', 'newcol_ID']], index=['newcol_year'],  aggfunc='count')#.reset_index()\n",
    "pivot_year.head()\n",
    "print('From 2013 to 2014, there is a drop of: ', (1-pivot_year['newcol_ID'].iloc[1]/pivot_year['newcol_ID'].iloc[0])*100, '%')"
   ]
  },
  {
   "cell_type": "markdown",
   "metadata": {},
   "source": [
    "**(!!)** the sales data set stops in October 2015, therefore don't consider 2015 here. "
   ]
  },
  {
   "cell_type": "markdown",
   "metadata": {},
   "source": [
    "### Outliers"
   ]
  },
  {
   "cell_type": "code",
   "execution_count": 18,
   "metadata": {},
   "outputs": [
    {
     "data": {
      "text/plain": [
       "<matplotlib.axes._subplots.AxesSubplot at 0x281002dcac8>"
      ]
     },
     "execution_count": 18,
     "metadata": {},
     "output_type": "execute_result"
    },
    {
     "data": {
      "image/png": "[encoded data removed]",
      "text/plain": [
       "<matplotlib.figure.Figure at 0x2810029d7f0>"
      ]
     },
     "metadata": {},
     "output_type": "display_data"
    }
   ],
   "source": [
    "sales['item_price'].plot()"
   ]
  },
  {
   "cell_type": "code",
   "execution_count": 19,
   "metadata": {},
   "outputs": [],
   "source": [
    "import matplotlib.pyplot as plt"
   ]
  },
  {
   "cell_type": "code",
   "execution_count": null,
   "metadata": {},
   "outputs": [],
   "source": []
  },
  {
   "cell_type": "code",
   "execution_count": 20,
   "metadata": {},
   "outputs": [
    {
     "data": {
      "image/png": "[encoded data removed]",
      "text/plain": [
       "<matplotlib.figure.Figure at 0x281003436d8>"
      ]
     },
     "metadata": {},
     "output_type": "display_data"
    }
   ],
   "source": [
    "plt.plot(sales['item_price'])\n",
    "plt.title('Line Plot - item price');"
   ]
  },
  {
   "cell_type": "markdown",
   "metadata": {},
   "source": [
    "Plotting item price vs. number of products sold (per day)"
   ]
  },
  {
   "cell_type": "code",
   "execution_count": 21,
   "metadata": {},
   "outputs": [
    {
     "data": {
      "image/png": "[encoded data removed]",
      "text/plain": [
       "<matplotlib.figure.Figure at 0x28103097860>"
      ]
     },
     "metadata": {},
     "output_type": "display_data"
    }
   ],
   "source": [
    "plt.plot(sales['item_price'], sales['item_cnt_day'], 'ro');\n",
    "plt.xlabel('item price')\n",
    "plt.ylabel('number of products sold');"
   ]
  },
  {
   "cell_type": "markdown",
   "metadata": {},
   "source": [
    "Looking at the `item_price`, we see only one outlier.  \n",
    "Looking at the `item_cnt_day`, there are two outlier.  \n",
    "Let's remove them, because they don't add any value to the (upcoming) model."
   ]
  },
  {
   "cell_type": "code",
   "execution_count": 22,
   "metadata": {},
   "outputs": [],
   "source": [
    "sales = sales[sales.item_price<100000]\n",
    "sales = sales[sales.item_cnt_day<=900]"
   ]
  },
  {
   "cell_type": "code",
   "execution_count": null,
   "metadata": {},
   "outputs": [],
   "source": []
  },
  {
   "cell_type": "code",
   "execution_count": null,
   "metadata": {},
   "outputs": [],
   "source": []
  },
  {
   "cell_type": "code",
   "execution_count": null,
   "metadata": {},
   "outputs": [],
   "source": []
  },
  {
   "cell_type": "markdown",
   "metadata": {},
   "source": [
    "# Monthly aggregation"
   ]
  },
  {
   "cell_type": "markdown",
   "metadata": {},
   "source": [
    "Kaggle tells you the following about this featue: \n",
    "> `item_cnt_day` - number of products sold. You are predicting a monthly amount of this measure  \n",
    "\n",
    "\n",
    "Because the feature `item_cnt_day` is per day, we have to aggregate the data on a monthly basis"
   ]
  },
  {
   "cell_type": "code",
   "execution_count": 23,
   "metadata": {},
   "outputs": [],
   "source": [
    "index_cols = ['shop_id', 'item_id', 'date_block_num']\n",
    "\n",
    "#Compute all shops/items combinations\n",
    "grid = []\n",
    "for block_num in sales['date_block_num'].unique():\n",
    "    cur_shops = sales.loc[sales['date_block_num'] == block_num, 'shop_id'].unique()\n",
    "    cur_items = sales.loc[sales['date_block_num'] == block_num, 'item_id'].unique()\n",
    "    grid.append(np.array(list(product(*[cur_shops, cur_items, [block_num]])),dtype='int32'))\n",
    "grid = pd.DataFrame(np.vstack(grid), columns = index_cols,dtype=np.int32)"
   ]
  },
  {
   "cell_type": "code",
   "execution_count": 24,
   "metadata": {},
   "outputs": [],
   "source": [
    "sales_m = sales.groupby(['date_block_num','shop_id','item_id']).agg({'item_cnt_day': 'sum','item_price': np.mean}).reset_index()\n",
    "sales_m = pd.merge(grid,sales_m,on=['date_block_num','shop_id','item_id'],how='left').fillna(0)\n",
    "\n",
    "sales_m = pd.merge(sales_m,items,on=['item_id'],how='left')\n",
    "sales_m = pd.merge(sales_m,item_categories, on=['item_category_id'], how='left')"
   ]
  },
  {
   "cell_type": "code",
   "execution_count": 25,
   "metadata": {},
   "outputs": [
    {
     "data": {
      "text/html": [
       "<div>\n",
       "<style scoped>\n",
       "    .dataframe tbody tr th:only-of-type {\n",
       "        vertical-align: middle;\n",
       "    }\n",
       "\n",
       "    .dataframe tbody tr th {\n",
       "        vertical-align: top;\n",
       "    }\n",
       "\n",
       "    .dataframe thead th {\n",
       "        text-align: right;\n",
       "    }\n",
       "</style>\n",
       "<table border=\"1\" class=\"dataframe\">\n",
       "  <thead>\n",
       "    <tr style=\"text-align: right;\">\n",
       "      <th></th>\n",
       "      <th>shop_id</th>\n",
       "      <th>item_id</th>\n",
       "      <th>date_block_num</th>\n",
       "      <th>item_cnt_day</th>\n",
       "      <th>item_price</th>\n",
       "      <th>item_name</th>\n",
       "      <th>item_category_id</th>\n",
       "      <th>item_category_name</th>\n",
       "    </tr>\n",
       "  </thead>\n",
       "  <tbody>\n",
       "    <tr>\n",
       "      <th>0</th>\n",
       "      <td>59</td>\n",
       "      <td>22154</td>\n",
       "      <td>0</td>\n",
       "      <td>1.0</td>\n",
       "      <td>999.0</td>\n",
       "      <td>ЯВЛЕНИЕ 2012 (BD)</td>\n",
       "      <td>37</td>\n",
       "      <td>Кино - Blu-Ray</td>\n",
       "    </tr>\n",
       "    <tr>\n",
       "      <th>1</th>\n",
       "      <td>59</td>\n",
       "      <td>2552</td>\n",
       "      <td>0</td>\n",
       "      <td>0.0</td>\n",
       "      <td>0.0</td>\n",
       "      <td>DEEP PURPLE  The House Of Blue Light  LP</td>\n",
       "      <td>58</td>\n",
       "      <td>Музыка - Винил</td>\n",
       "    </tr>\n",
       "    <tr>\n",
       "      <th>2</th>\n",
       "      <td>59</td>\n",
       "      <td>2554</td>\n",
       "      <td>0</td>\n",
       "      <td>0.0</td>\n",
       "      <td>0.0</td>\n",
       "      <td>DEEP PURPLE  Who Do You Think We Are  LP</td>\n",
       "      <td>58</td>\n",
       "      <td>Музыка - Винил</td>\n",
       "    </tr>\n",
       "    <tr>\n",
       "      <th>3</th>\n",
       "      <td>59</td>\n",
       "      <td>2555</td>\n",
       "      <td>0</td>\n",
       "      <td>0.0</td>\n",
       "      <td>0.0</td>\n",
       "      <td>DEEP PURPLE 30 Very Best Of 2CD (Фирм.)</td>\n",
       "      <td>56</td>\n",
       "      <td>Музыка - CD фирменного производства</td>\n",
       "    </tr>\n",
       "    <tr>\n",
       "      <th>4</th>\n",
       "      <td>59</td>\n",
       "      <td>2564</td>\n",
       "      <td>0</td>\n",
       "      <td>0.0</td>\n",
       "      <td>0.0</td>\n",
       "      <td>DEEP PURPLE Perihelion: Live In Concert DVD (К...</td>\n",
       "      <td>59</td>\n",
       "      <td>Музыка - Музыкальное видео</td>\n",
       "    </tr>\n",
       "  </tbody>\n",
       "</table>\n",
       "</div>"
      ],
      "text/plain": [
       "   shop_id  item_id  date_block_num  item_cnt_day  item_price  \\\n",
       "0       59    22154               0           1.0       999.0   \n",
       "1       59     2552               0           0.0         0.0   \n",
       "2       59     2554               0           0.0         0.0   \n",
       "3       59     2555               0           0.0         0.0   \n",
       "4       59     2564               0           0.0         0.0   \n",
       "\n",
       "                                           item_name  item_category_id  \\\n",
       "0                                  ЯВЛЕНИЕ 2012 (BD)                37   \n",
       "1           DEEP PURPLE  The House Of Blue Light  LP                58   \n",
       "2           DEEP PURPLE  Who Do You Think We Are  LP                58   \n",
       "3            DEEP PURPLE 30 Very Best Of 2CD (Фирм.)                56   \n",
       "4  DEEP PURPLE Perihelion: Live In Concert DVD (К...                59   \n",
       "\n",
       "                    item_category_name  \n",
       "0                       Кино - Blu-Ray  \n",
       "1                       Музыка - Винил  \n",
       "2                       Музыка - Винил  \n",
       "3  Музыка - CD фирменного производства  \n",
       "4           Музыка - Музыкальное видео  "
      ]
     },
     "execution_count": 25,
     "metadata": {},
     "output_type": "execute_result"
    }
   ],
   "source": [
    "sales_m.head()"
   ]
  },
  {
   "cell_type": "code",
   "execution_count": 26,
   "metadata": {},
   "outputs": [
    {
     "data": {
      "text/html": [
       "<div>\n",
       "<style scoped>\n",
       "    .dataframe tbody tr th:only-of-type {\n",
       "        vertical-align: middle;\n",
       "    }\n",
       "\n",
       "    .dataframe tbody tr th {\n",
       "        vertical-align: top;\n",
       "    }\n",
       "\n",
       "    .dataframe thead th {\n",
       "        text-align: right;\n",
       "    }\n",
       "</style>\n",
       "<table border=\"1\" class=\"dataframe\">\n",
       "  <thead>\n",
       "    <tr style=\"text-align: right;\">\n",
       "      <th></th>\n",
       "      <th>newcol_ID</th>\n",
       "      <th>date</th>\n",
       "      <th>date_block_num</th>\n",
       "      <th>shop_id</th>\n",
       "      <th>item_id</th>\n",
       "      <th>item_price</th>\n",
       "      <th>item_cnt_day</th>\n",
       "      <th>newcol_month</th>\n",
       "      <th>newcol_year</th>\n",
       "      <th>newcol_period</th>\n",
       "    </tr>\n",
       "  </thead>\n",
       "  <tbody>\n",
       "    <tr>\n",
       "      <th>0</th>\n",
       "      <td>0</td>\n",
       "      <td>2013-01-02</td>\n",
       "      <td>0</td>\n",
       "      <td>59</td>\n",
       "      <td>22154</td>\n",
       "      <td>999.00</td>\n",
       "      <td>1.0</td>\n",
       "      <td>1</td>\n",
       "      <td>2013</td>\n",
       "      <td>2013-01</td>\n",
       "    </tr>\n",
       "    <tr>\n",
       "      <th>1</th>\n",
       "      <td>1</td>\n",
       "      <td>2013-01-03</td>\n",
       "      <td>0</td>\n",
       "      <td>25</td>\n",
       "      <td>2552</td>\n",
       "      <td>899.00</td>\n",
       "      <td>1.0</td>\n",
       "      <td>1</td>\n",
       "      <td>2013</td>\n",
       "      <td>2013-01</td>\n",
       "    </tr>\n",
       "    <tr>\n",
       "      <th>2</th>\n",
       "      <td>2</td>\n",
       "      <td>2013-01-05</td>\n",
       "      <td>0</td>\n",
       "      <td>25</td>\n",
       "      <td>2552</td>\n",
       "      <td>899.00</td>\n",
       "      <td>-1.0</td>\n",
       "      <td>1</td>\n",
       "      <td>2013</td>\n",
       "      <td>2013-01</td>\n",
       "    </tr>\n",
       "    <tr>\n",
       "      <th>3</th>\n",
       "      <td>3</td>\n",
       "      <td>2013-01-06</td>\n",
       "      <td>0</td>\n",
       "      <td>25</td>\n",
       "      <td>2554</td>\n",
       "      <td>1709.05</td>\n",
       "      <td>1.0</td>\n",
       "      <td>1</td>\n",
       "      <td>2013</td>\n",
       "      <td>2013-01</td>\n",
       "    </tr>\n",
       "    <tr>\n",
       "      <th>4</th>\n",
       "      <td>4</td>\n",
       "      <td>2013-01-15</td>\n",
       "      <td>0</td>\n",
       "      <td>25</td>\n",
       "      <td>2555</td>\n",
       "      <td>1099.00</td>\n",
       "      <td>1.0</td>\n",
       "      <td>1</td>\n",
       "      <td>2013</td>\n",
       "      <td>2013-01</td>\n",
       "    </tr>\n",
       "  </tbody>\n",
       "</table>\n",
       "</div>"
      ],
      "text/plain": [
       "   newcol_ID       date  date_block_num  shop_id  item_id  item_price  \\\n",
       "0          0 2013-01-02               0       59    22154      999.00   \n",
       "1          1 2013-01-03               0       25     2552      899.00   \n",
       "2          2 2013-01-05               0       25     2552      899.00   \n",
       "3          3 2013-01-06               0       25     2554     1709.05   \n",
       "4          4 2013-01-15               0       25     2555     1099.00   \n",
       "\n",
       "   item_cnt_day  newcol_month  newcol_year newcol_period  \n",
       "0           1.0             1         2013       2013-01  \n",
       "1           1.0             1         2013       2013-01  \n",
       "2          -1.0             1         2013       2013-01  \n",
       "3           1.0             1         2013       2013-01  \n",
       "4           1.0             1         2013       2013-01  "
      ]
     },
     "execution_count": 26,
     "metadata": {},
     "output_type": "execute_result"
    }
   ],
   "source": [
    "sales.head()"
   ]
  },
  {
   "cell_type": "markdown",
   "metadata": {},
   "source": [
    "next thing to do:\n",
    "https://www.kaggle.com/the1owl/playing-in-the-sandbox  \n",
    "https://www.kaggle.com/plasticgrammer/predict-future-sales-training\n"
   ]
  },
  {
   "cell_type": "code",
   "execution_count": 27,
   "metadata": {},
   "outputs": [],
   "source": [
    "temp_test = test.copy()\n",
    "temp_test['date_block_num'] = 34\n",
    "temp_test.drop('ID', axis=1, inplace=True)\n",
    "\n",
    "temp_test = temp_test.merge(items, how='left', on='item_id')\n",
    "temp_test = temp_test.merge(item_categories, how='left', on='item_category_id')\n",
    "temp_test.drop('item_name', axis=1, inplace=True)"
   ]
  },
  {
   "cell_type": "code",
   "execution_count": 28,
   "metadata": {},
   "outputs": [],
   "source": [
    "sales_m.drop('item_name', axis=1, inplace=True)\n",
    "sales_m = pd.concat([sales_m,temp_test], axis=0, ignore_index=True, sort=True)"
   ]
  },
  {
   "cell_type": "code",
   "execution_count": 29,
   "metadata": {},
   "outputs": [
    {
     "data": {
      "text/plain": [
       "(11128004, 7)"
      ]
     },
     "execution_count": 29,
     "metadata": {},
     "output_type": "execute_result"
    }
   ],
   "source": [
    "sales_m.shape"
   ]
  },
  {
   "cell_type": "markdown",
   "metadata": {},
   "source": [
    "**Introducing mean encoding**: In one of the coursera videos, they recommend to add a mean encoding.\n"
   ]
  },
  {
   "cell_type": "code",
   "execution_count": 30,
   "metadata": {},
   "outputs": [
    {
     "name": "stdout",
     "output_type": "stream",
     "text": [
      "Wall time: 1min 16s\n"
     ]
    }
   ],
   "source": [
    "%%time\n",
    "for type_id in ['item_id','shop_id','item_category_id']:\n",
    "    for column_id, agg_func, func_name in [('item_price', np.mean,'avg'),\n",
    "                                           ('item_cnt_day', np.sum,'sum'),\n",
    "                                           ('item_cnt_day', np.mean,'avg')]:\n",
    "\n",
    "        mean_df = sales_m.groupby([type_id,'date_block_num']).agg(agg_func).reset_index()[[column_id,type_id,'date_block_num']]\n",
    "        mean_df.columns = [type_id+'_'+func_name+'_'+column_id, type_id,'date_block_num']\n",
    "        \n",
    "        sales_m = pd.merge(sales_m,mean_df,on=['date_block_num', type_id],how='left')"
   ]
  },
  {
   "cell_type": "markdown",
   "metadata": {},
   "source": [
    "**Introducing lag variables:** In one of the coursera videos, they recommend to add lagging variables. Now, because the data is now aggregated on a monthly basis, a lagging variables looks back 1,2,3,etc. month and adds that specific feature from that month int he current record:  "
   ]
  },
  {
   "cell_type": "markdown",
   "metadata": {},
   "source": [
    "adding lag variables is quite time intensive. I checked the following lags:  \n",
    "- lag 1 - 25.5s\n",
    "- lag 1+2 - 42s\n",
    "- lag 1+2+3 - 2min 15s  \n",
    "- lag 1+2+3+4 - 4min 13s  \n",
    "- lag 1+2+3+4+5+6 - 16min 2s\n",
    "- lag 1+2+3+4+5+6+9+12 - 30min 21s  \n",
    "\n",
    "\n",
    "However, using the data set witht he 12 lags, the  models take an eternity to train. This is has two reasons:\n",
    "- the training data is around 5.3 GB big...which is way too big for my Microsoft Surface :)  \n",
    "- and we have 85 features - hence, it will take even longer  \n",
    "Therefore, I did reduce it to just 3 lag features"
   ]
  },
  {
   "cell_type": "code",
   "execution_count": 31,
   "metadata": {},
   "outputs": [
    {
     "name": "stdout",
     "output_type": "stream",
     "text": [
      "Wall time: 16min 2s\n"
     ]
    }
   ],
   "source": [
    "%%time\n",
    "lag_variables  = ['item_id_avg_item_price',\n",
    "                  'item_id_sum_item_cnt_day',\n",
    "                  'item_id_avg_item_cnt_day',\n",
    "                  'shop_id_avg_item_price',\n",
    "                  'shop_id_sum_item_cnt_day',\n",
    "                  'shop_id_avg_item_cnt_day',\n",
    "                  'item_category_id_avg_item_price',\n",
    "                  'item_category_id_sum_item_cnt_day',\n",
    "                  'item_category_id_avg_item_cnt_day',\n",
    "                  'item_cnt_day'\n",
    "                 ]\n",
    "\n",
    "#Limited by computation resource\n",
    "lags = [1, 2, 3, 4, 5, 6]\n",
    "#lags = [1, 2, 3, 4, 5, 6, 9, 12]\n",
    "\n",
    "for lag in lags:\n",
    "    sales_new_df = sales_m.copy()\n",
    "    sales_new_df.date_block_num+=lag\n",
    "    sales_new_df = sales_new_df[['date_block_num','shop_id','item_id']+lag_variables]\n",
    "    sales_new_df.columns = ['date_block_num','shop_id','item_id']+ [lag_feat+'_lag_'+str(lag) for lag_feat in lag_variables]\n",
    "    sales_m = sales_m.merge(sales_new_df,on=['date_block_num','shop_id','item_id'] ,how='left')"
   ]
  },
  {
   "cell_type": "markdown",
   "metadata": {},
   "source": [
    "**Missing values**  \n",
    "for product counts: replace NA's with zero  \n",
    "for product prices: replace NA's with the median"
   ]
  },
  {
   "cell_type": "code",
   "execution_count": 32,
   "metadata": {},
   "outputs": [],
   "source": [
    "for feat in sales_m.columns:\n",
    "    if 'item_cnt' in feat:\n",
    "        sales_m[feat]=sales_m[feat].fillna(0)\n",
    "    elif 'item_price' in feat:\n",
    "        sales_m[feat]=sales_m[feat].fillna(sales_m[feat].median())"
   ]
  },
  {
   "cell_type": "code",
   "execution_count": 33,
   "metadata": {},
   "outputs": [],
   "source": [
    "# Drop uneccesary columns and take data only after 12 since the most lag month interval is 12.\n",
    "cols_to_drop = lag_variables[:-1] + ['item_price']\n",
    "sales_m = sales_m[sales_m['date_block_num']>12]"
   ]
  },
  {
   "cell_type": "code",
   "execution_count": 34,
   "metadata": {},
   "outputs": [],
   "source": [
    "# Validation\n",
    "# We use holdout scheme for cross validation. We use sales month from 12 to 32 for training, \n",
    "# month 33 for validation and month 34 for testing.\n",
    "X_train = sales_m[sales_m['date_block_num']<33].drop(cols_to_drop, axis=1)\n",
    "X_cv =  sales_m[sales_m['date_block_num']==33].drop(cols_to_drop, axis=1)\n",
    "X_test = sales_m[sales_m['date_block_num']==34].drop(cols_to_drop, axis=1)"
   ]
  },
  {
   "cell_type": "code",
   "execution_count": 35,
   "metadata": {},
   "outputs": [],
   "source": [
    "# From discussion in Kaggle forum, we applied this useful trick, \n",
    "# which clip the item_cnt_day within 40 instead of 20. In this way, \n",
    "# there are more predictions on item_cnt_day = 20.\n",
    "\n",
    "X_train['item_cnt_day'].clip_upper(40, inplace=True)\n",
    "X_train['item_cnt_day'].clip_lower(0, inplace=True)\n",
    "\n",
    "X_cv['item_cnt_day'].clip_upper(40, inplace=True)\n",
    "X_cv['item_cnt_day'].clip_lower(0, inplace=True)\n",
    "\n",
    "X_test['item_cnt_day'].clip_upper(40, inplace=True)\n",
    "X_test['item_cnt_day'].clip_lower(0, inplace=True)"
   ]
  },
  {
   "cell_type": "code",
   "execution_count": 36,
   "metadata": {},
   "outputs": [
    {
     "data": {
      "text/html": [
       "<div>\n",
       "<style scoped>\n",
       "    .dataframe tbody tr th:only-of-type {\n",
       "        vertical-align: middle;\n",
       "    }\n",
       "\n",
       "    .dataframe tbody tr th {\n",
       "        vertical-align: top;\n",
       "    }\n",
       "\n",
       "    .dataframe thead th {\n",
       "        text-align: right;\n",
       "    }\n",
       "</style>\n",
       "<table border=\"1\" class=\"dataframe\">\n",
       "  <thead>\n",
       "    <tr style=\"text-align: right;\">\n",
       "      <th></th>\n",
       "      <th>date_block_num</th>\n",
       "      <th>item_category_id</th>\n",
       "      <th>item_category_name</th>\n",
       "      <th>item_cnt_day</th>\n",
       "      <th>item_id</th>\n",
       "      <th>shop_id</th>\n",
       "      <th>item_id_avg_item_price_lag_1</th>\n",
       "      <th>item_id_sum_item_cnt_day_lag_1</th>\n",
       "      <th>item_id_avg_item_cnt_day_lag_1</th>\n",
       "      <th>shop_id_avg_item_price_lag_1</th>\n",
       "      <th>...</th>\n",
       "      <th>item_id_avg_item_price_lag_6</th>\n",
       "      <th>item_id_sum_item_cnt_day_lag_6</th>\n",
       "      <th>item_id_avg_item_cnt_day_lag_6</th>\n",
       "      <th>shop_id_avg_item_price_lag_6</th>\n",
       "      <th>shop_id_sum_item_cnt_day_lag_6</th>\n",
       "      <th>shop_id_avg_item_cnt_day_lag_6</th>\n",
       "      <th>item_category_id_avg_item_price_lag_6</th>\n",
       "      <th>item_category_id_sum_item_cnt_day_lag_6</th>\n",
       "      <th>item_category_id_avg_item_cnt_day_lag_6</th>\n",
       "      <th>item_cnt_day_lag_6</th>\n",
       "    </tr>\n",
       "  </thead>\n",
       "  <tbody>\n",
       "    <tr>\n",
       "      <th>10675632</th>\n",
       "      <td>33</td>\n",
       "      <td>47</td>\n",
       "      <td>Книги - Комиксы, манга</td>\n",
       "      <td>1.0</td>\n",
       "      <td>13315</td>\n",
       "      <td>45</td>\n",
       "      <td>15.093023</td>\n",
       "      <td>1.0</td>\n",
       "      <td>0.023256</td>\n",
       "      <td>100.784209</td>\n",
       "      <td>...</td>\n",
       "      <td>39.980000</td>\n",
       "      <td>0.0</td>\n",
       "      <td>0.000000</td>\n",
       "      <td>100.215755</td>\n",
       "      <td>0.0</td>\n",
       "      <td>0.000000</td>\n",
       "      <td>45.573896</td>\n",
       "      <td>0.0</td>\n",
       "      <td>0.000000</td>\n",
       "      <td>0.0</td>\n",
       "    </tr>\n",
       "    <tr>\n",
       "      <th>10675633</th>\n",
       "      <td>33</td>\n",
       "      <td>55</td>\n",
       "      <td>Музыка - CD локального производства</td>\n",
       "      <td>1.0</td>\n",
       "      <td>13880</td>\n",
       "      <td>45</td>\n",
       "      <td>120.000000</td>\n",
       "      <td>57.0</td>\n",
       "      <td>1.325581</td>\n",
       "      <td>100.784209</td>\n",
       "      <td>...</td>\n",
       "      <td>137.091185</td>\n",
       "      <td>104.0</td>\n",
       "      <td>2.212766</td>\n",
       "      <td>90.449783</td>\n",
       "      <td>862.0</td>\n",
       "      <td>0.157414</td>\n",
       "      <td>46.329709</td>\n",
       "      <td>7162.0</td>\n",
       "      <td>0.213422</td>\n",
       "      <td>1.0</td>\n",
       "    </tr>\n",
       "    <tr>\n",
       "      <th>10675634</th>\n",
       "      <td>33</td>\n",
       "      <td>55</td>\n",
       "      <td>Музыка - CD локального производства</td>\n",
       "      <td>2.0</td>\n",
       "      <td>13881</td>\n",
       "      <td>45</td>\n",
       "      <td>313.388605</td>\n",
       "      <td>34.0</td>\n",
       "      <td>0.790698</td>\n",
       "      <td>100.784209</td>\n",
       "      <td>...</td>\n",
       "      <td>276.744681</td>\n",
       "      <td>36.0</td>\n",
       "      <td>0.765957</td>\n",
       "      <td>90.449783</td>\n",
       "      <td>862.0</td>\n",
       "      <td>0.157414</td>\n",
       "      <td>46.329709</td>\n",
       "      <td>7162.0</td>\n",
       "      <td>0.213422</td>\n",
       "      <td>0.0</td>\n",
       "    </tr>\n",
       "    <tr>\n",
       "      <th>10675635</th>\n",
       "      <td>33</td>\n",
       "      <td>40</td>\n",
       "      <td>Кино - DVD</td>\n",
       "      <td>1.0</td>\n",
       "      <td>13923</td>\n",
       "      <td>45</td>\n",
       "      <td>37.549884</td>\n",
       "      <td>15.0</td>\n",
       "      <td>0.348837</td>\n",
       "      <td>100.784209</td>\n",
       "      <td>...</td>\n",
       "      <td>48.659574</td>\n",
       "      <td>30.0</td>\n",
       "      <td>0.638298</td>\n",
       "      <td>90.449783</td>\n",
       "      <td>862.0</td>\n",
       "      <td>0.157414</td>\n",
       "      <td>29.276676</td>\n",
       "      <td>10683.0</td>\n",
       "      <td>0.233365</td>\n",
       "      <td>0.0</td>\n",
       "    </tr>\n",
       "    <tr>\n",
       "      <th>10675636</th>\n",
       "      <td>33</td>\n",
       "      <td>30</td>\n",
       "      <td>Игры PC - Стандартные издания</td>\n",
       "      <td>1.0</td>\n",
       "      <td>14227</td>\n",
       "      <td>45</td>\n",
       "      <td>71.839031</td>\n",
       "      <td>89.0</td>\n",
       "      <td>2.069767</td>\n",
       "      <td>100.784209</td>\n",
       "      <td>...</td>\n",
       "      <td>67.705621</td>\n",
       "      <td>114.0</td>\n",
       "      <td>2.425532</td>\n",
       "      <td>90.449783</td>\n",
       "      <td>862.0</td>\n",
       "      <td>0.157414</td>\n",
       "      <td>151.228978</td>\n",
       "      <td>14751.0</td>\n",
       "      <td>1.634641</td>\n",
       "      <td>0.0</td>\n",
       "    </tr>\n",
       "  </tbody>\n",
       "</table>\n",
       "<p>5 rows × 66 columns</p>\n",
       "</div>"
      ],
      "text/plain": [
       "          date_block_num  item_category_id  \\\n",
       "10675632              33                47   \n",
       "10675633              33                55   \n",
       "10675634              33                55   \n",
       "10675635              33                40   \n",
       "10675636              33                30   \n",
       "\n",
       "                           item_category_name  item_cnt_day  item_id  shop_id  \\\n",
       "10675632               Книги - Комиксы, манга           1.0    13315       45   \n",
       "10675633  Музыка - CD локального производства           1.0    13880       45   \n",
       "10675634  Музыка - CD локального производства           2.0    13881       45   \n",
       "10675635                           Кино - DVD           1.0    13923       45   \n",
       "10675636        Игры PC - Стандартные издания           1.0    14227       45   \n",
       "\n",
       "          item_id_avg_item_price_lag_1  item_id_sum_item_cnt_day_lag_1  \\\n",
       "10675632                     15.093023                             1.0   \n",
       "10675633                    120.000000                            57.0   \n",
       "10675634                    313.388605                            34.0   \n",
       "10675635                     37.549884                            15.0   \n",
       "10675636                     71.839031                            89.0   \n",
       "\n",
       "          item_id_avg_item_cnt_day_lag_1  shop_id_avg_item_price_lag_1  \\\n",
       "10675632                        0.023256                    100.784209   \n",
       "10675633                        1.325581                    100.784209   \n",
       "10675634                        0.790698                    100.784209   \n",
       "10675635                        0.348837                    100.784209   \n",
       "10675636                        2.069767                    100.784209   \n",
       "\n",
       "                 ...          item_id_avg_item_price_lag_6  \\\n",
       "10675632         ...                             39.980000   \n",
       "10675633         ...                            137.091185   \n",
       "10675634         ...                            276.744681   \n",
       "10675635         ...                             48.659574   \n",
       "10675636         ...                             67.705621   \n",
       "\n",
       "          item_id_sum_item_cnt_day_lag_6  item_id_avg_item_cnt_day_lag_6  \\\n",
       "10675632                             0.0                        0.000000   \n",
       "10675633                           104.0                        2.212766   \n",
       "10675634                            36.0                        0.765957   \n",
       "10675635                            30.0                        0.638298   \n",
       "10675636                           114.0                        2.425532   \n",
       "\n",
       "          shop_id_avg_item_price_lag_6  shop_id_sum_item_cnt_day_lag_6  \\\n",
       "10675632                    100.215755                             0.0   \n",
       "10675633                     90.449783                           862.0   \n",
       "10675634                     90.449783                           862.0   \n",
       "10675635                     90.449783                           862.0   \n",
       "10675636                     90.449783                           862.0   \n",
       "\n",
       "          shop_id_avg_item_cnt_day_lag_6  \\\n",
       "10675632                        0.000000   \n",
       "10675633                        0.157414   \n",
       "10675634                        0.157414   \n",
       "10675635                        0.157414   \n",
       "10675636                        0.157414   \n",
       "\n",
       "          item_category_id_avg_item_price_lag_6  \\\n",
       "10675632                              45.573896   \n",
       "10675633                              46.329709   \n",
       "10675634                              46.329709   \n",
       "10675635                              29.276676   \n",
       "10675636                             151.228978   \n",
       "\n",
       "          item_category_id_sum_item_cnt_day_lag_6  \\\n",
       "10675632                                      0.0   \n",
       "10675633                                   7162.0   \n",
       "10675634                                   7162.0   \n",
       "10675635                                  10683.0   \n",
       "10675636                                  14751.0   \n",
       "\n",
       "          item_category_id_avg_item_cnt_day_lag_6  item_cnt_day_lag_6  \n",
       "10675632                                 0.000000                 0.0  \n",
       "10675633                                 0.213422                 1.0  \n",
       "10675634                                 0.213422                 0.0  \n",
       "10675635                                 0.233365                 0.0  \n",
       "10675636                                 1.634641                 0.0  \n",
       "\n",
       "[5 rows x 66 columns]"
      ]
     },
     "execution_count": 36,
     "metadata": {},
     "output_type": "execute_result"
    }
   ],
   "source": [
    "X_cv.head()"
   ]
  },
  {
   "cell_type": "code",
   "execution_count": 37,
   "metadata": {},
   "outputs": [],
   "source": [
    "X_train.drop('item_category_name', axis=1, inplace=True)"
   ]
  },
  {
   "cell_type": "code",
   "execution_count": 38,
   "metadata": {},
   "outputs": [],
   "source": [
    "X_cv.drop('item_category_name', axis=1, inplace=True)"
   ]
  },
  {
   "cell_type": "code",
   "execution_count": 39,
   "metadata": {},
   "outputs": [],
   "source": [
    "X_test.drop('item_category_name', axis=1, inplace=True)"
   ]
  },
  {
   "cell_type": "code",
   "execution_count": 40,
   "metadata": {},
   "outputs": [
    {
     "data": {
      "text/html": [
       "<div>\n",
       "<style scoped>\n",
       "    .dataframe tbody tr th:only-of-type {\n",
       "        vertical-align: middle;\n",
       "    }\n",
       "\n",
       "    .dataframe tbody tr th {\n",
       "        vertical-align: top;\n",
       "    }\n",
       "\n",
       "    .dataframe thead th {\n",
       "        text-align: right;\n",
       "    }\n",
       "</style>\n",
       "<table border=\"1\" class=\"dataframe\">\n",
       "  <thead>\n",
       "    <tr style=\"text-align: right;\">\n",
       "      <th></th>\n",
       "      <th>date_block_num</th>\n",
       "      <th>item_category_id</th>\n",
       "      <th>item_cnt_day</th>\n",
       "      <th>item_id</th>\n",
       "      <th>shop_id</th>\n",
       "      <th>item_id_avg_item_price_lag_1</th>\n",
       "      <th>item_id_sum_item_cnt_day_lag_1</th>\n",
       "      <th>item_id_avg_item_cnt_day_lag_1</th>\n",
       "      <th>shop_id_avg_item_price_lag_1</th>\n",
       "      <th>shop_id_sum_item_cnt_day_lag_1</th>\n",
       "      <th>...</th>\n",
       "      <th>item_id_avg_item_price_lag_6</th>\n",
       "      <th>item_id_sum_item_cnt_day_lag_6</th>\n",
       "      <th>item_id_avg_item_cnt_day_lag_6</th>\n",
       "      <th>shop_id_avg_item_price_lag_6</th>\n",
       "      <th>shop_id_sum_item_cnt_day_lag_6</th>\n",
       "      <th>shop_id_avg_item_cnt_day_lag_6</th>\n",
       "      <th>item_category_id_avg_item_price_lag_6</th>\n",
       "      <th>item_category_id_sum_item_cnt_day_lag_6</th>\n",
       "      <th>item_category_id_avg_item_cnt_day_lag_6</th>\n",
       "      <th>item_cnt_day_lag_6</th>\n",
       "    </tr>\n",
       "  </thead>\n",
       "  <tbody>\n",
       "    <tr>\n",
       "      <th>10913804</th>\n",
       "      <td>34</td>\n",
       "      <td>19</td>\n",
       "      <td>0.0</td>\n",
       "      <td>5037</td>\n",
       "      <td>5</td>\n",
       "      <td>579.159091</td>\n",
       "      <td>25.0</td>\n",
       "      <td>0.568182</td>\n",
       "      <td>111.209795</td>\n",
       "      <td>1052.0</td>\n",
       "      <td>...</td>\n",
       "      <td>1202.773106</td>\n",
       "      <td>87.0</td>\n",
       "      <td>1.977273</td>\n",
       "      <td>103.231186</td>\n",
       "      <td>1012.0</td>\n",
       "      <td>0.191558</td>\n",
       "      <td>344.761915</td>\n",
       "      <td>3392.0</td>\n",
       "      <td>0.450824</td>\n",
       "      <td>1.0</td>\n",
       "    </tr>\n",
       "    <tr>\n",
       "      <th>10913805</th>\n",
       "      <td>34</td>\n",
       "      <td>55</td>\n",
       "      <td>0.0</td>\n",
       "      <td>5320</td>\n",
       "      <td>5</td>\n",
       "      <td>34.813953</td>\n",
       "      <td>0.0</td>\n",
       "      <td>0.000000</td>\n",
       "      <td>102.626336</td>\n",
       "      <td>0.0</td>\n",
       "      <td>...</td>\n",
       "      <td>39.980000</td>\n",
       "      <td>0.0</td>\n",
       "      <td>0.000000</td>\n",
       "      <td>100.215755</td>\n",
       "      <td>0.0</td>\n",
       "      <td>0.000000</td>\n",
       "      <td>45.573896</td>\n",
       "      <td>0.0</td>\n",
       "      <td>0.000000</td>\n",
       "      <td>0.0</td>\n",
       "    </tr>\n",
       "    <tr>\n",
       "      <th>10913806</th>\n",
       "      <td>34</td>\n",
       "      <td>19</td>\n",
       "      <td>0.0</td>\n",
       "      <td>5233</td>\n",
       "      <td>5</td>\n",
       "      <td>735.750000</td>\n",
       "      <td>42.0</td>\n",
       "      <td>0.954545</td>\n",
       "      <td>111.209795</td>\n",
       "      <td>1052.0</td>\n",
       "      <td>...</td>\n",
       "      <td>495.804545</td>\n",
       "      <td>71.0</td>\n",
       "      <td>1.613636</td>\n",
       "      <td>103.231186</td>\n",
       "      <td>1012.0</td>\n",
       "      <td>0.191558</td>\n",
       "      <td>344.761915</td>\n",
       "      <td>3392.0</td>\n",
       "      <td>0.450824</td>\n",
       "      <td>3.0</td>\n",
       "    </tr>\n",
       "    <tr>\n",
       "      <th>10913807</th>\n",
       "      <td>34</td>\n",
       "      <td>23</td>\n",
       "      <td>0.0</td>\n",
       "      <td>5232</td>\n",
       "      <td>5</td>\n",
       "      <td>511.909091</td>\n",
       "      <td>28.0</td>\n",
       "      <td>0.636364</td>\n",
       "      <td>111.209795</td>\n",
       "      <td>1052.0</td>\n",
       "      <td>...</td>\n",
       "      <td>39.980000</td>\n",
       "      <td>0.0</td>\n",
       "      <td>0.000000</td>\n",
       "      <td>100.215755</td>\n",
       "      <td>0.0</td>\n",
       "      <td>0.000000</td>\n",
       "      <td>45.573896</td>\n",
       "      <td>0.0</td>\n",
       "      <td>0.000000</td>\n",
       "      <td>0.0</td>\n",
       "    </tr>\n",
       "    <tr>\n",
       "      <th>10913808</th>\n",
       "      <td>34</td>\n",
       "      <td>20</td>\n",
       "      <td>0.0</td>\n",
       "      <td>5268</td>\n",
       "      <td>5</td>\n",
       "      <td>34.813953</td>\n",
       "      <td>0.0</td>\n",
       "      <td>0.000000</td>\n",
       "      <td>102.626336</td>\n",
       "      <td>0.0</td>\n",
       "      <td>...</td>\n",
       "      <td>39.980000</td>\n",
       "      <td>0.0</td>\n",
       "      <td>0.000000</td>\n",
       "      <td>100.215755</td>\n",
       "      <td>0.0</td>\n",
       "      <td>0.000000</td>\n",
       "      <td>45.573896</td>\n",
       "      <td>0.0</td>\n",
       "      <td>0.000000</td>\n",
       "      <td>0.0</td>\n",
       "    </tr>\n",
       "  </tbody>\n",
       "</table>\n",
       "<p>5 rows × 65 columns</p>\n",
       "</div>"
      ],
      "text/plain": [
       "          date_block_num  item_category_id  item_cnt_day  item_id  shop_id  \\\n",
       "10913804              34                19           0.0     5037        5   \n",
       "10913805              34                55           0.0     5320        5   \n",
       "10913806              34                19           0.0     5233        5   \n",
       "10913807              34                23           0.0     5232        5   \n",
       "10913808              34                20           0.0     5268        5   \n",
       "\n",
       "          item_id_avg_item_price_lag_1  item_id_sum_item_cnt_day_lag_1  \\\n",
       "10913804                    579.159091                            25.0   \n",
       "10913805                     34.813953                             0.0   \n",
       "10913806                    735.750000                            42.0   \n",
       "10913807                    511.909091                            28.0   \n",
       "10913808                     34.813953                             0.0   \n",
       "\n",
       "          item_id_avg_item_cnt_day_lag_1  shop_id_avg_item_price_lag_1  \\\n",
       "10913804                        0.568182                    111.209795   \n",
       "10913805                        0.000000                    102.626336   \n",
       "10913806                        0.954545                    111.209795   \n",
       "10913807                        0.636364                    111.209795   \n",
       "10913808                        0.000000                    102.626336   \n",
       "\n",
       "          shop_id_sum_item_cnt_day_lag_1         ...          \\\n",
       "10913804                          1052.0         ...           \n",
       "10913805                             0.0         ...           \n",
       "10913806                          1052.0         ...           \n",
       "10913807                          1052.0         ...           \n",
       "10913808                             0.0         ...           \n",
       "\n",
       "          item_id_avg_item_price_lag_6  item_id_sum_item_cnt_day_lag_6  \\\n",
       "10913804                   1202.773106                            87.0   \n",
       "10913805                     39.980000                             0.0   \n",
       "10913806                    495.804545                            71.0   \n",
       "10913807                     39.980000                             0.0   \n",
       "10913808                     39.980000                             0.0   \n",
       "\n",
       "          item_id_avg_item_cnt_day_lag_6  shop_id_avg_item_price_lag_6  \\\n",
       "10913804                        1.977273                    103.231186   \n",
       "10913805                        0.000000                    100.215755   \n",
       "10913806                        1.613636                    103.231186   \n",
       "10913807                        0.000000                    100.215755   \n",
       "10913808                        0.000000                    100.215755   \n",
       "\n",
       "          shop_id_sum_item_cnt_day_lag_6  shop_id_avg_item_cnt_day_lag_6  \\\n",
       "10913804                          1012.0                        0.191558   \n",
       "10913805                             0.0                        0.000000   \n",
       "10913806                          1012.0                        0.191558   \n",
       "10913807                             0.0                        0.000000   \n",
       "10913808                             0.0                        0.000000   \n",
       "\n",
       "          item_category_id_avg_item_price_lag_6  \\\n",
       "10913804                             344.761915   \n",
       "10913805                              45.573896   \n",
       "10913806                             344.761915   \n",
       "10913807                              45.573896   \n",
       "10913808                              45.573896   \n",
       "\n",
       "          item_category_id_sum_item_cnt_day_lag_6  \\\n",
       "10913804                                   3392.0   \n",
       "10913805                                      0.0   \n",
       "10913806                                   3392.0   \n",
       "10913807                                      0.0   \n",
       "10913808                                      0.0   \n",
       "\n",
       "          item_category_id_avg_item_cnt_day_lag_6  item_cnt_day_lag_6  \n",
       "10913804                                 0.450824                 1.0  \n",
       "10913805                                 0.000000                 0.0  \n",
       "10913806                                 0.450824                 3.0  \n",
       "10913807                                 0.000000                 0.0  \n",
       "10913808                                 0.000000                 0.0  \n",
       "\n",
       "[5 rows x 65 columns]"
      ]
     },
     "execution_count": 40,
     "metadata": {},
     "output_type": "execute_result"
    }
   ],
   "source": [
    "X_test.head()"
   ]
  },
  {
   "cell_type": "code",
   "execution_count": 41,
   "metadata": {},
   "outputs": [
    {
     "name": "stdout",
     "output_type": "stream",
     "text": [
      "Wall time: 11min 25s\n"
     ]
    }
   ],
   "source": [
    "%%time\n",
    "X_train.to_csv('X_train.csv', index=False)\n",
    "X_cv.to_csv('X_cv.csv', index=False)\n",
    "X_test.to_csv('X_test.csv', index=False)"
   ]
  },
  {
   "cell_type": "code",
   "execution_count": 42,
   "metadata": {},
   "outputs": [
    {
     "data": {
      "text/plain": [
       "(5839576, 65)"
      ]
     },
     "execution_count": 42,
     "metadata": {},
     "output_type": "execute_result"
    }
   ],
   "source": [
    "X_train.shape"
   ]
  },
  {
   "cell_type": "code",
   "execution_count": 43,
   "metadata": {},
   "outputs": [
    {
     "data": {
      "text/plain": [
       "(238172, 65)"
      ]
     },
     "execution_count": 43,
     "metadata": {},
     "output_type": "execute_result"
    }
   ],
   "source": [
    "X_cv.shape"
   ]
  },
  {
   "cell_type": "code",
   "execution_count": 44,
   "metadata": {},
   "outputs": [
    {
     "data": {
      "text/plain": [
       "(214200, 65)"
      ]
     },
     "execution_count": 44,
     "metadata": {},
     "output_type": "execute_result"
    }
   ],
   "source": [
    "X_test.shape"
   ]
  },
  {
   "cell_type": "code",
   "execution_count": null,
   "metadata": {},
   "outputs": [],
   "source": []
  }
 ],
 "metadata": {
  "kernelspec": {
   "display_name": "Python 3",
   "language": "python",
   "name": "python3"
  },
  "language_info": {
   "codemirror_mode": {
    "name": "ipython",
    "version": 3
   },
   "file_extension": ".py",
   "mimetype": "text/x-python",
   "name": "python",
   "nbconvert_exporter": "python",
   "pygments_lexer": "ipython3",
   "version": "3.6.3"
  }
 },
 "nbformat": 4,
 "nbformat_minor": 2
}
